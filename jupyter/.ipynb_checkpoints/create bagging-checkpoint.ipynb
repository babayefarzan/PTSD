{
 "cells": [
  {
   "cell_type": "code",
   "execution_count": 42,
   "metadata": {},
   "outputs": [],
   "source": [
    "import numpy as np\n",
    "import pandas as pd\n",
    "from sklearn.utils import shuffle\n",
    "from sklearn.ensemble import RandomForestClassifier, GradientBoostingClassifier\n",
    "from sklearn.model_selection import train_test_split\n",
    "from sklearn.model_selection import cross_val_score, StratifiedKFold\n",
    "from sklearn.metrics import accuracy_score, f1_score,precision_score, recall_score, roc_auc_score\n",
    "from sklearn.decomposition import PCA\n",
    "from sklearn.utils import shuffle\n",
    "from sklearn.neural_network import MLPClassifier\n",
    "from sklearn.svm import SVC\n",
    "from sklearn.naive_bayes import GaussianNB\n",
    "from sklearn.tree import DecisionTreeClassifier\n",
    "from sklearn.mixture import GaussianMixture\n",
    "from sklearn.linear_model import LogisticRegression\n",
    "from imblearn.over_sampling import SMOTE\n",
    "from sklearn.impute import SimpleImputer"
   ]
  },
  {
   "cell_type": "code",
   "execution_count": 43,
   "metadata": {},
   "outputs": [],
   "source": [
    "path = \"PTSD.xlsx\"\n",
    "df = pd.read_excel(path)\n",
    "df = df[~df[\"PCL_Strict3\"].isna()]\n"
   ]
  },
  {
   "cell_type": "code",
   "execution_count": 44,
   "metadata": {},
   "outputs": [
    {
     "name": "stdout",
     "output_type": "stream",
     "text": [
      "negative 681 positive 44\n",
      "\n"
     ]
    }
   ],
   "source": [
    "print(\"negative\",sum(df[\"PCL_Strict3\"] == 0),\"positive\", sum(df[\"PCL_Strict3\"] == 1))\n",
    "print()"
   ]
  },
  {
   "cell_type": "code",
   "execution_count": 70,
   "metadata": {},
   "outputs": [],
   "source": [
    "def unison_shuffled_copies(a, b):\n",
    "    assert len(a) == len(b)\n",
    "    p = numpy.random.permutation(len(a))\n",
    "    return a[p], b[p]"
   ]
  },
  {
   "cell_type": "code",
   "execution_count": 46,
   "metadata": {},
   "outputs": [],
   "source": [
    "X_train, X_test, y_train, y_test = train_test_split(df[\"PCL_Strict2\"], df[\"PCL_Strict3\"], test_size = 0.1, random_state=271828, stratify=df[\"PCL_Strict3\"])\n",
    "#X_train_2, X_test_2, y_train_2, y_test_2 = train_test_split(X_train, y_train, test_size = 0.1, random_state=271828, stratify=y_train)\n"
   ]
  },
  {
   "cell_type": "code",
   "execution_count": 47,
   "metadata": {},
   "outputs": [
    {
     "name": "stdout",
     "output_type": "stream",
     "text": [
      "negative_count, positive_count 612.0 40.0\n"
     ]
    }
   ],
   "source": [
    "negative_count = len(y_train)-sum(y_train)\n",
    "positive_count = sum(y_train)\n",
    "print(\"negative_count, positive_count\", negative_count, positive_count)"
   ]
  },
  {
   "cell_type": "code",
   "execution_count": 48,
   "metadata": {},
   "outputs": [
    {
     "data": {
      "text/plain": [
       "15.0"
      ]
     },
     "execution_count": 48,
     "metadata": {},
     "output_type": "execute_result"
    }
   ],
   "source": [
    "left = negative_count - (positive_count * (negative_count// positive_count))\n",
    "rounds = negative_count// positive_count\n",
    "rounds"
   ]
  },
  {
   "cell_type": "code",
   "execution_count": 65,
   "metadata": {},
   "outputs": [],
   "source": [
    "negative = X_train[y_train ==0]\n",
    "positive = X_train[y_train == 1]"
   ]
  },
  {
   "cell_type": "code",
   "execution_count": 66,
   "metadata": {},
   "outputs": [
    {
     "data": {
      "text/plain": [
       "652"
      ]
     },
     "execution_count": 66,
     "metadata": {},
     "output_type": "execute_result"
    }
   ],
   "source": [
    "len(y_train)"
   ]
  },
  {
   "cell_type": "code",
   "execution_count": 68,
   "metadata": {},
   "outputs": [
    {
     "data": {
      "text/plain": [
       "55"
      ]
     },
     "execution_count": 68,
     "metadata": {},
     "output_type": "execute_result"
    }
   ],
   "source": [
    "len(np.concatenate((negative.values[0:15], positive)))"
   ]
  },
  {
   "cell_type": "markdown",
   "metadata": {},
   "source": [
    "### 1. How many loops needed?"
   ]
  },
  {
   "cell_type": "markdown",
   "metadata": {},
   "source": [
    "### 2. How many left over is there?"
   ]
  },
  {
   "cell_type": "markdown",
   "metadata": {},
   "source": [
    "### 3. Shuffle positive and negetive "
   ]
  },
  {
   "cell_type": "code",
   "execution_count": 6,
   "metadata": {},
   "outputs": [],
   "source": [
    "### 4. create for loop"
   ]
  },
  {
   "cell_type": "code",
   "execution_count": 7,
   "metadata": {},
   "outputs": [],
   "source": [
    "### 5. saparate loops with and w.o left overs"
   ]
  },
  {
   "cell_type": "code",
   "execution_count": 8,
   "metadata": {},
   "outputs": [],
   "source": [
    "### 6. at each for loop define the relevant indecies"
   ]
  },
  {
   "cell_type": "code",
   "execution_count": 9,
   "metadata": {},
   "outputs": [],
   "source": [
    "### 7. with the indecies use to find the values itselfs"
   ]
  },
  {
   "cell_type": "code",
   "execution_count": 10,
   "metadata": {},
   "outputs": [],
   "source": [
    "### 8. create the empty list of classifiers"
   ]
  },
  {
   "cell_type": "code",
   "execution_count": 11,
   "metadata": {},
   "outputs": [],
   "source": [
    "### 9. train and test on CV "
   ]
  },
  {
   "cell_type": "code",
   "execution_count": 12,
   "metadata": {},
   "outputs": [],
   "source": [
    "### 10. create and voting "
   ]
  },
  {
   "cell_type": "code",
   "execution_count": 13,
   "metadata": {},
   "outputs": [],
   "source": [
    "### `11. check if it pass an treshold"
   ]
  },
  {
   "cell_type": "code",
   "execution_count": 53,
   "metadata": {},
   "outputs": [
    {
     "name": "stdout",
     "output_type": "stream",
     "text": [
      "41.0\n"
     ]
    },
    {
     "ename": "KeyError",
     "evalue": "'Cannot get left slice bound for non-unique label: 0'",
     "output_type": "error",
     "traceback": [
      "\u001b[1;31m---------------------------------------------------------------------------\u001b[0m",
      "\u001b[1;31mKeyError\u001b[0m                                  Traceback (most recent call last)",
      "\u001b[1;32m<ipython-input-53-20d089cbcb76>\u001b[0m in \u001b[0;36m<module>\u001b[1;34m\u001b[0m\n\u001b[0;32m      5\u001b[0m         \u001b[0mdelta\u001b[0m \u001b[1;33m=\u001b[0m \u001b[0mpositive_count\u001b[0m \u001b[1;33m+\u001b[0m \u001b[1;36m1\u001b[0m\u001b[1;33m\u001b[0m\u001b[1;33m\u001b[0m\u001b[0m\n\u001b[0;32m      6\u001b[0m         \u001b[0mprint\u001b[0m\u001b[1;33m(\u001b[0m\u001b[0mdelta\u001b[0m\u001b[1;33m)\u001b[0m\u001b[1;31m#, negative, negative_index)\u001b[0m\u001b[1;33m\u001b[0m\u001b[1;33m\u001b[0m\u001b[0m\n\u001b[1;32m----> 7\u001b[1;33m         \u001b[0mtraining_set\u001b[0m \u001b[1;33m=\u001b[0m \u001b[0mnegative\u001b[0m\u001b[1;33m[\u001b[0m\u001b[0mnegative_index\u001b[0m\u001b[1;33m:\u001b[0m \u001b[0mnegative_index\u001b[0m\u001b[1;33m+\u001b[0m\u001b[0mdelta\u001b[0m\u001b[1;33m]\u001b[0m \u001b[1;33m+\u001b[0m \u001b[0mpositive\u001b[0m\u001b[1;33m\u001b[0m\u001b[1;33m\u001b[0m\u001b[0m\n\u001b[0m\u001b[0;32m      8\u001b[0m         \u001b[0mprint\u001b[0m\u001b[1;33m(\u001b[0m\u001b[0mtraining_set\u001b[0m\u001b[1;33m)\u001b[0m\u001b[1;33m\u001b[0m\u001b[1;33m\u001b[0m\u001b[0m\n\u001b[0;32m      9\u001b[0m         \u001b[0mnegative_index\u001b[0m \u001b[1;33m+=\u001b[0m \u001b[0mdelta\u001b[0m\u001b[1;33m\u001b[0m\u001b[1;33m\u001b[0m\u001b[0m\n",
      "\u001b[1;32mC:\\Anaconda\\lib\\site-packages\\pandas\\core\\series.py\u001b[0m in \u001b[0;36m__getitem__\u001b[1;34m(self, key)\u001b[0m\n\u001b[0;32m    808\u001b[0m             \u001b[0mkey\u001b[0m \u001b[1;33m=\u001b[0m \u001b[0mcheck_bool_indexer\u001b[0m\u001b[1;33m(\u001b[0m\u001b[0mself\u001b[0m\u001b[1;33m.\u001b[0m\u001b[0mindex\u001b[0m\u001b[1;33m,\u001b[0m \u001b[0mkey\u001b[0m\u001b[1;33m)\u001b[0m\u001b[1;33m\u001b[0m\u001b[1;33m\u001b[0m\u001b[0m\n\u001b[0;32m    809\u001b[0m \u001b[1;33m\u001b[0m\u001b[0m\n\u001b[1;32m--> 810\u001b[1;33m         \u001b[1;32mreturn\u001b[0m \u001b[0mself\u001b[0m\u001b[1;33m.\u001b[0m\u001b[0m_get_with\u001b[0m\u001b[1;33m(\u001b[0m\u001b[0mkey\u001b[0m\u001b[1;33m)\u001b[0m\u001b[1;33m\u001b[0m\u001b[1;33m\u001b[0m\u001b[0m\n\u001b[0m\u001b[0;32m    811\u001b[0m \u001b[1;33m\u001b[0m\u001b[0m\n\u001b[0;32m    812\u001b[0m     \u001b[1;32mdef\u001b[0m \u001b[0m_get_with\u001b[0m\u001b[1;33m(\u001b[0m\u001b[0mself\u001b[0m\u001b[1;33m,\u001b[0m \u001b[0mkey\u001b[0m\u001b[1;33m)\u001b[0m\u001b[1;33m:\u001b[0m\u001b[1;33m\u001b[0m\u001b[1;33m\u001b[0m\u001b[0m\n",
      "\u001b[1;32mC:\\Anaconda\\lib\\site-packages\\pandas\\core\\series.py\u001b[0m in \u001b[0;36m_get_with\u001b[1;34m(self, key)\u001b[0m\n\u001b[0;32m    813\u001b[0m         \u001b[1;31m# other: fancy integer or otherwise\u001b[0m\u001b[1;33m\u001b[0m\u001b[1;33m\u001b[0m\u001b[1;33m\u001b[0m\u001b[0m\n\u001b[0;32m    814\u001b[0m         \u001b[1;32mif\u001b[0m \u001b[0misinstance\u001b[0m\u001b[1;33m(\u001b[0m\u001b[0mkey\u001b[0m\u001b[1;33m,\u001b[0m \u001b[0mslice\u001b[0m\u001b[1;33m)\u001b[0m\u001b[1;33m:\u001b[0m\u001b[1;33m\u001b[0m\u001b[1;33m\u001b[0m\u001b[0m\n\u001b[1;32m--> 815\u001b[1;33m             \u001b[0mindexer\u001b[0m \u001b[1;33m=\u001b[0m \u001b[0mself\u001b[0m\u001b[1;33m.\u001b[0m\u001b[0mindex\u001b[0m\u001b[1;33m.\u001b[0m\u001b[0m_convert_slice_indexer\u001b[0m\u001b[1;33m(\u001b[0m\u001b[0mkey\u001b[0m\u001b[1;33m,\u001b[0m \u001b[0mkind\u001b[0m\u001b[1;33m=\u001b[0m\u001b[1;34m'getitem'\u001b[0m\u001b[1;33m)\u001b[0m\u001b[1;33m\u001b[0m\u001b[1;33m\u001b[0m\u001b[0m\n\u001b[0m\u001b[0;32m    816\u001b[0m             \u001b[1;32mreturn\u001b[0m \u001b[0mself\u001b[0m\u001b[1;33m.\u001b[0m\u001b[0m_get_values\u001b[0m\u001b[1;33m(\u001b[0m\u001b[0mindexer\u001b[0m\u001b[1;33m)\u001b[0m\u001b[1;33m\u001b[0m\u001b[1;33m\u001b[0m\u001b[0m\n\u001b[0;32m    817\u001b[0m         \u001b[1;32melif\u001b[0m \u001b[0misinstance\u001b[0m\u001b[1;33m(\u001b[0m\u001b[0mkey\u001b[0m\u001b[1;33m,\u001b[0m \u001b[0mABCDataFrame\u001b[0m\u001b[1;33m)\u001b[0m\u001b[1;33m:\u001b[0m\u001b[1;33m\u001b[0m\u001b[1;33m\u001b[0m\u001b[0m\n",
      "\u001b[1;32mC:\\Anaconda\\lib\\site-packages\\pandas\\core\\indexes\\numeric.py\u001b[0m in \u001b[0;36m_convert_slice_indexer\u001b[1;34m(self, key, kind)\u001b[0m\n\u001b[0;32m    339\u001b[0m \u001b[1;33m\u001b[0m\u001b[0m\n\u001b[0;32m    340\u001b[0m         \u001b[1;31m# translate to locations\u001b[0m\u001b[1;33m\u001b[0m\u001b[1;33m\u001b[0m\u001b[1;33m\u001b[0m\u001b[0m\n\u001b[1;32m--> 341\u001b[1;33m         \u001b[1;32mreturn\u001b[0m \u001b[0mself\u001b[0m\u001b[1;33m.\u001b[0m\u001b[0mslice_indexer\u001b[0m\u001b[1;33m(\u001b[0m\u001b[0mkey\u001b[0m\u001b[1;33m.\u001b[0m\u001b[0mstart\u001b[0m\u001b[1;33m,\u001b[0m \u001b[0mkey\u001b[0m\u001b[1;33m.\u001b[0m\u001b[0mstop\u001b[0m\u001b[1;33m,\u001b[0m \u001b[0mkey\u001b[0m\u001b[1;33m.\u001b[0m\u001b[0mstep\u001b[0m\u001b[1;33m,\u001b[0m \u001b[0mkind\u001b[0m\u001b[1;33m=\u001b[0m\u001b[0mkind\u001b[0m\u001b[1;33m)\u001b[0m\u001b[1;33m\u001b[0m\u001b[1;33m\u001b[0m\u001b[0m\n\u001b[0m\u001b[0;32m    342\u001b[0m \u001b[1;33m\u001b[0m\u001b[0m\n\u001b[0;32m    343\u001b[0m     def _format_native_types(self, na_rep='', float_format=None, decimal='.',\n",
      "\u001b[1;32mC:\\Anaconda\\lib\\site-packages\\pandas\\core\\indexes\\base.py\u001b[0m in \u001b[0;36mslice_indexer\u001b[1;34m(self, start, end, step, kind)\u001b[0m\n\u001b[0;32m   4105\u001b[0m         \"\"\"\n\u001b[0;32m   4106\u001b[0m         start_slice, end_slice = self.slice_locs(start, end, step=step,\n\u001b[1;32m-> 4107\u001b[1;33m                                                  kind=kind)\n\u001b[0m\u001b[0;32m   4108\u001b[0m \u001b[1;33m\u001b[0m\u001b[0m\n\u001b[0;32m   4109\u001b[0m         \u001b[1;31m# return a slice\u001b[0m\u001b[1;33m\u001b[0m\u001b[1;33m\u001b[0m\u001b[1;33m\u001b[0m\u001b[0m\n",
      "\u001b[1;32mC:\\Anaconda\\lib\\site-packages\\pandas\\core\\indexes\\base.py\u001b[0m in \u001b[0;36mslice_locs\u001b[1;34m(self, start, end, step, kind)\u001b[0m\n\u001b[0;32m   4306\u001b[0m         \u001b[0mstart_slice\u001b[0m \u001b[1;33m=\u001b[0m \u001b[1;32mNone\u001b[0m\u001b[1;33m\u001b[0m\u001b[1;33m\u001b[0m\u001b[0m\n\u001b[0;32m   4307\u001b[0m         \u001b[1;32mif\u001b[0m \u001b[0mstart\u001b[0m \u001b[1;32mis\u001b[0m \u001b[1;32mnot\u001b[0m \u001b[1;32mNone\u001b[0m\u001b[1;33m:\u001b[0m\u001b[1;33m\u001b[0m\u001b[1;33m\u001b[0m\u001b[0m\n\u001b[1;32m-> 4308\u001b[1;33m             \u001b[0mstart_slice\u001b[0m \u001b[1;33m=\u001b[0m \u001b[0mself\u001b[0m\u001b[1;33m.\u001b[0m\u001b[0mget_slice_bound\u001b[0m\u001b[1;33m(\u001b[0m\u001b[0mstart\u001b[0m\u001b[1;33m,\u001b[0m \u001b[1;34m'left'\u001b[0m\u001b[1;33m,\u001b[0m \u001b[0mkind\u001b[0m\u001b[1;33m)\u001b[0m\u001b[1;33m\u001b[0m\u001b[1;33m\u001b[0m\u001b[0m\n\u001b[0m\u001b[0;32m   4309\u001b[0m         \u001b[1;32mif\u001b[0m \u001b[0mstart_slice\u001b[0m \u001b[1;32mis\u001b[0m \u001b[1;32mNone\u001b[0m\u001b[1;33m:\u001b[0m\u001b[1;33m\u001b[0m\u001b[1;33m\u001b[0m\u001b[0m\n\u001b[0;32m   4310\u001b[0m             \u001b[0mstart_slice\u001b[0m \u001b[1;33m=\u001b[0m \u001b[1;36m0\u001b[0m\u001b[1;33m\u001b[0m\u001b[1;33m\u001b[0m\u001b[0m\n",
      "\u001b[1;32mC:\\Anaconda\\lib\\site-packages\\pandas\\core\\indexes\\base.py\u001b[0m in \u001b[0;36mget_slice_bound\u001b[1;34m(self, label, side, kind)\u001b[0m\n\u001b[0;32m   4253\u001b[0m             \u001b[1;32mif\u001b[0m \u001b[0misinstance\u001b[0m\u001b[1;33m(\u001b[0m\u001b[0mslc\u001b[0m\u001b[1;33m,\u001b[0m \u001b[0mnp\u001b[0m\u001b[1;33m.\u001b[0m\u001b[0mndarray\u001b[0m\u001b[1;33m)\u001b[0m\u001b[1;33m:\u001b[0m\u001b[1;33m\u001b[0m\u001b[1;33m\u001b[0m\u001b[0m\n\u001b[0;32m   4254\u001b[0m                 raise KeyError(\"Cannot get %s slice bound for non-unique \"\n\u001b[1;32m-> 4255\u001b[1;33m                                \"label: %r\" % (side, original_label))\n\u001b[0m\u001b[0;32m   4256\u001b[0m \u001b[1;33m\u001b[0m\u001b[0m\n\u001b[0;32m   4257\u001b[0m         \u001b[1;32mif\u001b[0m \u001b[0misinstance\u001b[0m\u001b[1;33m(\u001b[0m\u001b[0mslc\u001b[0m\u001b[1;33m,\u001b[0m \u001b[0mslice\u001b[0m\u001b[1;33m)\u001b[0m\u001b[1;33m:\u001b[0m\u001b[1;33m\u001b[0m\u001b[1;33m\u001b[0m\u001b[0m\n",
      "\u001b[1;31mKeyError\u001b[0m: 'Cannot get left slice bound for non-unique label: 0'"
     ]
    }
   ],
   "source": [
    "negative_index = 0\n",
    "\n",
    "for i in range(int(rounds)):\n",
    "    if i < left:\n",
    "        delta = positive_count + 1\n",
    "        print()\n",
    "        training_set = negative.loc[negative_index: negative_index+delta] + positive\n",
    "        print(training_set)\n",
    "        negative_index += delta\n",
    "        \n",
    "    else:\n",
    "        pass\n",
    "        "
   ]
  },
  {
   "cell_type": "code",
   "execution_count": 69,
   "metadata": {},
   "outputs": [],
   "source": []
  },
  {
   "cell_type": "code",
   "execution_count": null,
   "metadata": {
    "scrolled": false
   },
   "outputs": [
    {
     "name": "stdout",
     "output_type": "stream",
     "text": [
      "[31 30 29 28 27  1 17 26  5 20 13  1  1  1  1  1  1  1  1  1  1 16 15 23\n",
      " 19  2  1  1 14  9  1  1  7  1 11 18 10  1  3  6  1  1 12  1  1  1  1 24\n",
      "  1  1  4 21  1  8 22  1 25  1  1  1]\n",
      "\n",
      "\n",
      "precision\n",
      " 0.034482758620689655\n",
      "recall\n",
      " 0.125\n",
      "[31 30 29 28 27  1 11 25  8  6  1  1  1  1  1  1  1  1  1  1  1 23 20 24\n",
      " 13  7 14 16 18  1 10  2 17  1 21 15  5  1  1  1  1  1  1  1  1  1  1 12\n",
      "  3  1  1 19  1  4 22  1 26  9  1  1]\n",
      "\n",
      "\n",
      "precision\n",
      " 0.05\n",
      "recall\n",
      " 0.125\n",
      "[31 30 29 28 27  1  9 25 19  2  6  1  1  1  1  1  1  1  1  1  1  4 22 10\n",
      " 20 21  1 13  1  8  1  1 17  1 16 12 11  1  1  1  1  1 15  1  1  1  1 14\n",
      "  5  1  7 23  3 18 24  1 26  1  1  1]\n",
      "\n",
      "\n",
      "precision\n",
      " 0.07272727272727272\n",
      "recall\n",
      " 0.5\n"
     ]
    }
   ],
   "source": [
    "kfold = StratifiedKFold(n_splits=5, shuffle=True)\n",
    "cvscores = []\n",
    "y_train_2 = np.array(y_train)\n",
    "X_train_2 = np.array(X_train)\n",
    "\n",
    "positive_index = 0\n",
    "#eval\n",
    "pres=[]\n",
    "rs = []\n",
    "for train, test in kfold.split(X_train_2, y_train_2):\n",
    "\n",
    "    rfe =  RFE(RandomForestClassifier(n_estimators=100), 30).fit(X_train_2[train], y_train_2[train])\n",
    "    print(rfe.ranking_)\n",
    "    X_train_rfe = rfe.transform(X_train_2[train])\n",
    "    X_test_rfe = rfe.transform(X_train_2[test])\n",
    "    \n",
    "    sm = SMOTE(0.5, random_state=27, k_neighbors= 9)\n",
    "    X_train_res, y_train_res = sm.fit_sample(X_train_rfe, y_train_2[train].ravel())\n",
    "\n",
    "    model_number = 4\n",
    "\n",
    "        \n",
    "    if model_number == 4:\n",
    "        # create model\n",
    "        n_cols = X_train_res.shape[1]\n",
    "        model = Sequential()\n",
    "\n",
    "        \n",
    "\n",
    "        model.add(Dense(10, activation='elu', input_dim = n_cols))\n",
    "        model.add(Dropout(0.5)) \n",
    "\n",
    "        \n",
    "        model.add(Dense(2, activation='elu', input_dim = n_cols))\n",
    "        model.add(Dropout(0.5)) \n",
    "\n",
    "        model.add(Dense(1, activation='sigmoid'))\n",
    "\n",
    "        model.compile(optimizer='adam', loss='binary_crossentropy')\n",
    "\n",
    "\n",
    "        # Fit the model\n",
    "        callbacks = [EarlyStopping(monitor='val_loss', patience=5)]\n",
    "        \n",
    "        # Fit the model\n",
    "        model.fit(X_train_res, y_train_res, epochs = 500, verbose=0, \n",
    "                  validation_split = .1, class_weight = {0:12, 1:3}, callbacks=callbacks)\n",
    "\n",
    "        # evaluate the model                    \n",
    "        y_pred =  model.predict(X_test_rfe)\n",
    "        y_pred = y_pred > 0.5\n",
    "\n",
    "        \n",
    "    s = precision_score(y_train_2[test], y_pred)\n",
    "    print(\"\\n\\nprecision\\n\", s)\n",
    "    pres.append(s)\n",
    "    \n",
    "    r = recall_score(y_train_2[test], y_pred)\n",
    "    print(\"recall\\n\", r)\n",
    "    rs.append(r)\n",
    "    \n",
    "print(\"\\n\\nmean precision\", sum(pres)/len(pres))\n",
    "print(\"\\n\\nmean recall\", sum(rs)/len(rs))"
   ]
  },
  {
   "cell_type": "code",
   "execution_count": null,
   "metadata": {},
   "outputs": [],
   "source": [
    "##\n",
    "\n",
    "# RFE = 5 \n",
    "## unsup 1 model 4 - 25/20/15\n",
    "## p - 0.82\n",
    "## r - 0.12\n",
    "\n",
    "\n",
    "# RFE = 5 \n",
    "## unsup 1 model 4 - 25/20/15    w - 10/20\n",
    "## p - 0.82\n",
    "## r - 0.12\n",
    "\n",
    "\n",
    "# RFE = 5 \n",
    "## unsup 1 model 4 - 25/20/15    w - 10/15\n",
    "## p - 0.8\n",
    "## r - 0.12\n",
    "\n",
    "\n",
    "# RFE = 4\n",
    "## unsup 1 model 4 - 25/20/15    w - 10/15\n",
    "## p - 0.8\n",
    "## r - 0.12"
   ]
  },
  {
   "cell_type": "code",
   "execution_count": 9,
   "metadata": {},
   "outputs": [],
   "source": [
    "# RFE = 3\n",
    "\n",
    "## unsup 1 model 4 - \n",
    "## p - 0.857\n",
    "## r - 0.0995\n",
    "## unsup 1 model 0 - \n",
    "## p - 0.86\n",
    "## r - 0.099\n",
    "\n",
    "## unsup 0 model 4 - \n",
    "## p - 0.839\n",
    "## r - 0.0995\n",
    "## unsup 0 model 0 - \n",
    "## p - 0.725\n",
    "## r - 0.101\n",
    "\n",
    "\n",
    "# RFE = 13\n",
    "\n",
    "## unsup 1 model 4 - \n",
    "## p - 0.52\n",
    "## r - 0.14\n",
    "\n",
    "## unsup 0 model 4 - \n",
    "## p - 0.6\n",
    "## r - 0.15\n",
    "\n",
    "\n",
    "# RFE = 7\n",
    "\n",
    "## unsup 1 model 4 - \n",
    "## p - 0.67\n",
    "## r - 0.14\n",
    "\n",
    "\n",
    "# RFE = 5\n",
    "\n",
    "## unsup 1 model 4 - \n",
    "## p - 0.67\n",
    "## r - 0.14"
   ]
  },
  {
   "cell_type": "code",
   "execution_count": 42,
   "metadata": {},
   "outputs": [
    {
     "name": "stdout",
     "output_type": "stream",
     "text": [
      "\n",
      "\n",
      "precision\n",
      " 0.0\n",
      "recall\n",
      " 0.0\n"
     ]
    }
   ],
   "source": [
    "\n",
    "rfe =  RFE(RandomForestClassifier(n_estimators=100), 5).fit(X_train_2, y_train_2)\n",
    "\n",
    "X_train_rfe = rfe.transform(X_train_2)\n",
    "X_test_rfe = rfe.transform(X_test_2)\n",
    "    \n",
    "sm = SMOTE(random_state=27)\n",
    "X_train_res, y_train_res = sm.fit_sample(X_train_rfe, y_train_2.ravel())\n",
    "\n",
    "# create model\n",
    "n_cols = X_train_res.shape[1]\n",
    "model = Sequential()\n",
    "    \n",
    "model.add(Dense(10, activation='elu', input_dim = n_cols))\n",
    "model.add(Dropout(0.5))\n",
    "\n",
    "\n",
    "model.add(Dense(1, activation='sigmoid'))\n",
    "\n",
    "model.compile(optimizer='adam', loss='binary_crossentropy')\n",
    "\n",
    "\n",
    "# Fit the model\n",
    "model.fit(X_train_res, y_train_res, epochs = 250, verbose=0, class_weight = {0:8, 1:1})\n",
    "    \n",
    "# evaluate the model                    \n",
    "y_pred =  model.predict(X_test_rfe)\n",
    "y_pred = y_pred > 0.5\n",
    "\n",
    "s = precision_score(y_test_2, y_pred)\n",
    "print(\"\\n\\nprecision\\n\", s)\n",
    "print(\"recall\\n\", recall_score(y_test_2, y_pred))\n"
   ]
  },
  {
   "cell_type": "code",
   "execution_count": null,
   "metadata": {},
   "outputs": [],
   "source": [
    "y_pred"
   ]
  },
  {
   "cell_type": "code",
   "execution_count": null,
   "metadata": {},
   "outputs": [],
   "source": [
    "\n",
    "rfe =  RFE(RandomForestClassifier(n_estimators=100), 5).fit(X_train, y_train)\n",
    "\n",
    "X_train_rfe = rfe.transform(X_train)\n",
    "X_test_rfe = rfe.transform(X_test)\n",
    "    \n",
    "sm = SMOTE(random_state=27)\n",
    "X_train_res, y_train_res = sm.fit_sample(X_train_rfe, y_train.ravel())\n",
    "\n",
    "# create model\n",
    "n_cols = X_train_res.shape[1]\n",
    "model = Sequential()\n",
    "    \n",
    "model.add(Dense(7, activation='elu', input_dim = n_cols))\n",
    "model.add(Dropout(0.5))\n",
    "\n",
    "model.add(Dense(5, activation='elu'))\n",
    "model.add(Dropout(0.5))\n",
    "\n",
    "model.add(Dense(3, activation='elu'))\n",
    "model.add(Dropout(0.5))\n",
    "\n",
    "model.add(Dense(1, activation='sigmoid'))\n",
    "\n",
    "model.compile(optimizer='adam', loss='binary_crossentropy')\n",
    "\n",
    "\n",
    "# Fit the model\n",
    "model.fit(X_train_res, y_train_res, epochs = 250, verbose=0, class_weight = {0:1, 1:1.7})\n",
    "    \n",
    "# evaluate the model                    \n",
    "y_pred =  model.predict(X_test_rfe)\n",
    "y_pred = y_pred > 0.5\n",
    "\n",
    "s = precision_score(y_pred,y_test)\n",
    "print(\"\\n\\nprecision\\n\", s)\n",
    "print(\"recall\\n\", recall_score(y_pred,y_test))\n"
   ]
  },
  {
   "cell_type": "code",
   "execution_count": null,
   "metadata": {},
   "outputs": [],
   "source": []
  },
  {
   "cell_type": "code",
   "execution_count": null,
   "metadata": {},
   "outputs": [],
   "source": []
  }
 ],
 "metadata": {
  "kernelspec": {
   "display_name": "Python 3",
   "language": "python",
   "name": "python3"
  },
  "language_info": {
   "codemirror_mode": {
    "name": "ipython",
    "version": 3
   },
   "file_extension": ".py",
   "mimetype": "text/x-python",
   "name": "python",
   "nbconvert_exporter": "python",
   "pygments_lexer": "ipython3",
   "version": "3.7.1"
  }
 },
 "nbformat": 4,
 "nbformat_minor": 2
}
