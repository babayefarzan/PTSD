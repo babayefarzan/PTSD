{
 "cells": [
  {
   "cell_type": "code",
   "execution_count": 1,
   "metadata": {},
   "outputs": [],
   "source": [
    "import numpy as np\n",
    "import pandas as pd"
   ]
  },
  {
   "cell_type": "code",
   "execution_count": 2,
   "metadata": {},
   "outputs": [],
   "source": [
    "path = \"PTSD.xlsx\"\n",
    "df = pd.read_excel(path)"
   ]
  },
  {
   "cell_type": "code",
   "execution_count": 31,
   "metadata": {},
   "outputs": [],
   "source": [
    "    original_features = [\"age\", \"highschool_diploma\", \"Hebrew\", \"dyslexia\", \"ADHD\", \"T1ETBE\", \"T1Acc1t\",\n",
    "                         \"T1Acc1n\", \"T1bias\", \"T2Acc1t\", \"T2Acc1n\", \"T2bias\", \"state1\", \"state2\", \"trait1\",\n",
    "                         \"trait2\", \"lot1\", \"lot2\", \"phq1\", \"phq2\", \"PCL1\", \"PCL2\", \"cd_risc1\", \"ptgi2\",\n",
    "                         \"active_coping1\", \"planning1\", \"positive_reframing1\", \"acceptance1\", \"humor1\",\n",
    "                         \"religion1\", \"emotional_support1\", \"instrumental_support1\", \"self_distraction1\",\n",
    "                         \"denial1\", \"venting1\", \"substance_use1\", \"behavioral_disengagement1\", \"self_blame1\",\n",
    "                         \"active_coping2\", \"planning2\", \"positive_reframing2\", \"acceptance2\", \"humor2\",\n",
    "                         \"religion2\", \"emotional_support2\", \"instrumental_support2\", \"self_distraction2\",\n",
    "                         \"denial2\", \"venting2\", \"substance_use2\", \"behavioral_disengagement2\", \"self_blame2\",\n",
    "                         \"trauma_history8_1\", \"military_exposure_unit\", \"HML_5HTT\", \"HL_MAOA\", \"HML_NPY\",\n",
    "                         \"COMT_Hap1_recode\", \"COMT_Hap2_recode\", \"COMT_Hap1_LvsMH\", \"HML_FKBP5\", \"Ashken_scale\",\n",
    "                         \"Sephar_scale\", \"Unknown\"]\n",
    "    blue =  [\"dyslexia\", \"ADHD\",  \"state1\", \"trait1\",\"lot1\", \"phq1\",  \"PCL1\", \"active_coping1\", \"planning1\", \"positive_reframing1\", \"acceptance1\", \"humor1\",\n",
    "                         \"religion1\", \"emotional_support1\", \"instrumental_support1\", \"self_distraction1\",\n",
    "                         \"denial1\", \"venting1\", \"substance_use1\", \"behavioral_disengagement1\", \"self_blame1\"]\n",
    "    green = [\"T1Acc1t\", \"T1Acc1n\", \"T1bias\"]\n",
    "    t1 = [\"T1Acc1t\", \"T1Acc1n\", \"T1bias\", \"active_coping1\", \"planning1\", \"positive_reframing1\", \"acceptance1\", \"humor1\",\n",
    "                         \"religion1\", \"emotional_support1\", \"instrumental_support1\", \"self_distraction1\",\n",
    "                         \"denial1\", \"venting1\", \"substance_use1\", \"behavioral_disengagement1\", \"self_blame1\"]\n",
    "    t2 = [\"T2Acc1t\", \"T2Acc1n\", \"T2bias\", \"state2\", \"trait2\",  \"lot2\", \"phq2\", \"PCL2\", \"active_coping2\", \"planning2\", \"positive_reframing2\", \"acceptance2\", \"humor2\",\n",
    "                         \"religion2\", \"emotional_support2\", \"instrumental_support2\", \"self_distraction2\",\n",
    "                         \"denial2\", \"venting2\", \"substance_use2\", \"behavioral_disengagement2\", \"self_blame2\"]"
   ]
  },
  {
   "cell_type": "code",
   "execution_count": 32,
   "metadata": {},
   "outputs": [
    {
     "data": {
      "image/png": "[encoded data removed]",
      "text/plain": [
       "<matplotlib.figure.Figure at 0x2a2adeab240>"
      ]
     },
     "metadata": {},
     "output_type": "display_data"
    }
   ],
   "source": [
    "from sklearn.decomposition import PCA\n",
    "import matplotlib.pyplot as plt\n",
    "pca = PCA(n_components = 2)\n",
    "blue = df[blue]\n",
    "blue= blue.dropna(axis=1, thresh = 0.5)\n",
    "blue = blue.dropna(axis=0, thresh = 0.9)\n",
    "blue = blue.fillna(blue.mean())\n",
    "blue = pca.fit_transform(blue)\n",
    "#blue\n",
    "plt.scatter(blue[:,0], blue[:,1])\n",
    "plt.show()"
   ]
  },
  {
   "cell_type": "code",
   "execution_count": 33,
   "metadata": {},
   "outputs": [
    {
     "data": {
      "image/png": "[encoded data removed]",
      "text/plain": [
       "<matplotlib.figure.Figure at 0x2a2ade5b1d0>"
      ]
     },
     "metadata": {},
     "output_type": "display_data"
    }
   ],
   "source": [
    "from sklearn.decomposition import PCA\n",
    "import matplotlib.pyplot as plt\n",
    "pca = PCA(n_components = 2)\n",
    "green = df[green]\n",
    "green= green.dropna(axis=1, thresh = 0.5)\n",
    "green = green.dropna(axis=0, thresh = 0.9)\n",
    "green = green.fillna(green.mean())\n",
    "green = pca.fit_transform(green)\n",
    "#blue\n",
    "plt.scatter(green[:,0], green[:,1])\n",
    "plt.show()"
   ]
  },
  {
   "cell_type": "code",
   "execution_count": 8,
   "metadata": {},
   "outputs": [],
   "source": [
    "valid_columns = [\"age\", \"highschool_diploma\", \"Hebrew\", \"dyslexia\",\n",
    "                      \"ADHD\", \"DotProbe\", \"Training\", \"T1ETBE\", \"T1Acc1t\",\n",
    "                    \"T1Acc1n\", \"T2Acc1t\", \"T2Acc1n\", \"T1bias\", \"T2bias\",\n",
    "                      \"state1\", \"state2\", \"trait1\", \"trait2\", \"lot1\", \"lot2\",\n",
    "                      \"phq1\", \"phq2\", \"PCL_Strict1\", \"Resillience\", \"cd_risc1\",\n",
    "                       \"Coping_Styles\", \"active_coping1\", \"planning1\", \n",
    "                    \"positive_reframing1\", \"acceptance1\", \"humor1\", \"religion1\",\n",
    "                    \"emotional_support1\", \"instrumental_support1\", \n",
    "                       \"self_distraction1\", \"denial1\", \"venting1\", \"substance_use1\",\n",
    "                       \"behavioral_disengagement1\", \"self_blame1\", \"mva_p1\", \"mva_i1\", \"violent1\", \"sexual1\",\n",
    "                       \"rockets_p1\", \"rockets_i1\", \"trauma_history6_1\",\n",
    "                       \"military_exposure_unit\", \"HML_5HTT\", \"HL_MAOA\",\n",
    "                       \"HML_NPY\", \"COMT_Ranked\", \"COMT_Hap1_recode\",\n",
    "                    \"COMT_Hap2_recode\", \"COMT_Hap1_LvsMH\", \"HML_FKBP5\",\n",
    "                    \"Ashken_scale\", \"Sephar_scale\", \"Unknown\", \"PCL_Broad3\"]"
   ]
  },
  {
   "cell_type": "code",
   "execution_count": 9,
   "metadata": {},
   "outputs": [
    {
     "ename": "KeyError",
     "evalue": "\"['DotProbe' 'Resillience' 'Coping_Styles'] not in index\"",
     "output_type": "error",
     "traceback": [
      "\u001b[1;31m---------------------------------------------------------------------------\u001b[0m",
      "\u001b[1;31mKeyError\u001b[0m                                  Traceback (most recent call last)",
      "\u001b[1;32m<ipython-input-9-594153f875bb>\u001b[0m in \u001b[0;36m<module>\u001b[1;34m()\u001b[0m\n\u001b[0;32m      1\u001b[0m \u001b[1;33m\u001b[0m\u001b[0m\n\u001b[1;32m----> 2\u001b[1;33m \u001b[0mdf\u001b[0m \u001b[1;33m=\u001b[0m \u001b[0mdf\u001b[0m\u001b[1;33m[\u001b[0m\u001b[0mvalid_columns\u001b[0m\u001b[1;33m]\u001b[0m\u001b[1;33m\u001b[0m\u001b[0m\n\u001b[0m",
      "\u001b[1;32mC:\\Anaconda\\lib\\site-packages\\pandas\\core\\frame.py\u001b[0m in \u001b[0;36m__getitem__\u001b[1;34m(self, key)\u001b[0m\n\u001b[0;32m   2131\u001b[0m         \u001b[1;32mif\u001b[0m \u001b[0misinstance\u001b[0m\u001b[1;33m(\u001b[0m\u001b[0mkey\u001b[0m\u001b[1;33m,\u001b[0m \u001b[1;33m(\u001b[0m\u001b[0mSeries\u001b[0m\u001b[1;33m,\u001b[0m \u001b[0mnp\u001b[0m\u001b[1;33m.\u001b[0m\u001b[0mndarray\u001b[0m\u001b[1;33m,\u001b[0m \u001b[0mIndex\u001b[0m\u001b[1;33m,\u001b[0m \u001b[0mlist\u001b[0m\u001b[1;33m)\u001b[0m\u001b[1;33m)\u001b[0m\u001b[1;33m:\u001b[0m\u001b[1;33m\u001b[0m\u001b[0m\n\u001b[0;32m   2132\u001b[0m             \u001b[1;31m# either boolean or fancy integer index\u001b[0m\u001b[1;33m\u001b[0m\u001b[1;33m\u001b[0m\u001b[0m\n\u001b[1;32m-> 2133\u001b[1;33m             \u001b[1;32mreturn\u001b[0m \u001b[0mself\u001b[0m\u001b[1;33m.\u001b[0m\u001b[0m_getitem_array\u001b[0m\u001b[1;33m(\u001b[0m\u001b[0mkey\u001b[0m\u001b[1;33m)\u001b[0m\u001b[1;33m\u001b[0m\u001b[0m\n\u001b[0m\u001b[0;32m   2134\u001b[0m         \u001b[1;32melif\u001b[0m \u001b[0misinstance\u001b[0m\u001b[1;33m(\u001b[0m\u001b[0mkey\u001b[0m\u001b[1;33m,\u001b[0m \u001b[0mDataFrame\u001b[0m\u001b[1;33m)\u001b[0m\u001b[1;33m:\u001b[0m\u001b[1;33m\u001b[0m\u001b[0m\n\u001b[0;32m   2135\u001b[0m             \u001b[1;32mreturn\u001b[0m \u001b[0mself\u001b[0m\u001b[1;33m.\u001b[0m\u001b[0m_getitem_frame\u001b[0m\u001b[1;33m(\u001b[0m\u001b[0mkey\u001b[0m\u001b[1;33m)\u001b[0m\u001b[1;33m\u001b[0m\u001b[0m\n",
      "\u001b[1;32mC:\\Anaconda\\lib\\site-packages\\pandas\\core\\frame.py\u001b[0m in \u001b[0;36m_getitem_array\u001b[1;34m(self, key)\u001b[0m\n\u001b[0;32m   2175\u001b[0m             \u001b[1;32mreturn\u001b[0m \u001b[0mself\u001b[0m\u001b[1;33m.\u001b[0m\u001b[0m_take\u001b[0m\u001b[1;33m(\u001b[0m\u001b[0mindexer\u001b[0m\u001b[1;33m,\u001b[0m \u001b[0maxis\u001b[0m\u001b[1;33m=\u001b[0m\u001b[1;36m0\u001b[0m\u001b[1;33m,\u001b[0m \u001b[0mconvert\u001b[0m\u001b[1;33m=\u001b[0m\u001b[1;32mFalse\u001b[0m\u001b[1;33m)\u001b[0m\u001b[1;33m\u001b[0m\u001b[0m\n\u001b[0;32m   2176\u001b[0m         \u001b[1;32melse\u001b[0m\u001b[1;33m:\u001b[0m\u001b[1;33m\u001b[0m\u001b[0m\n\u001b[1;32m-> 2177\u001b[1;33m             \u001b[0mindexer\u001b[0m \u001b[1;33m=\u001b[0m \u001b[0mself\u001b[0m\u001b[1;33m.\u001b[0m\u001b[0mloc\u001b[0m\u001b[1;33m.\u001b[0m\u001b[0m_convert_to_indexer\u001b[0m\u001b[1;33m(\u001b[0m\u001b[0mkey\u001b[0m\u001b[1;33m,\u001b[0m \u001b[0maxis\u001b[0m\u001b[1;33m=\u001b[0m\u001b[1;36m1\u001b[0m\u001b[1;33m)\u001b[0m\u001b[1;33m\u001b[0m\u001b[0m\n\u001b[0m\u001b[0;32m   2178\u001b[0m             \u001b[1;32mreturn\u001b[0m \u001b[0mself\u001b[0m\u001b[1;33m.\u001b[0m\u001b[0m_take\u001b[0m\u001b[1;33m(\u001b[0m\u001b[0mindexer\u001b[0m\u001b[1;33m,\u001b[0m \u001b[0maxis\u001b[0m\u001b[1;33m=\u001b[0m\u001b[1;36m1\u001b[0m\u001b[1;33m,\u001b[0m \u001b[0mconvert\u001b[0m\u001b[1;33m=\u001b[0m\u001b[1;32mTrue\u001b[0m\u001b[1;33m)\u001b[0m\u001b[1;33m\u001b[0m\u001b[0m\n\u001b[0;32m   2179\u001b[0m \u001b[1;33m\u001b[0m\u001b[0m\n",
      "\u001b[1;32mC:\\Anaconda\\lib\\site-packages\\pandas\\core\\indexing.py\u001b[0m in \u001b[0;36m_convert_to_indexer\u001b[1;34m(self, obj, axis, is_setter)\u001b[0m\n\u001b[0;32m   1267\u001b[0m                 \u001b[1;32mif\u001b[0m \u001b[0mmask\u001b[0m\u001b[1;33m.\u001b[0m\u001b[0many\u001b[0m\u001b[1;33m(\u001b[0m\u001b[1;33m)\u001b[0m\u001b[1;33m:\u001b[0m\u001b[1;33m\u001b[0m\u001b[0m\n\u001b[0;32m   1268\u001b[0m                     raise KeyError('{mask} not in index'\n\u001b[1;32m-> 1269\u001b[1;33m                                    .format(mask=objarr[mask]))\n\u001b[0m\u001b[0;32m   1270\u001b[0m \u001b[1;33m\u001b[0m\u001b[0m\n\u001b[0;32m   1271\u001b[0m                 \u001b[1;32mreturn\u001b[0m \u001b[0m_values_from_object\u001b[0m\u001b[1;33m(\u001b[0m\u001b[0mindexer\u001b[0m\u001b[1;33m)\u001b[0m\u001b[1;33m\u001b[0m\u001b[0m\n",
      "\u001b[1;31mKeyError\u001b[0m: \"['DotProbe' 'Resillience' 'Coping_Styles'] not in index\""
     ]
    }
   ],
   "source": [
    "\n",
    "df = df[valid_columns]"
   ]
  },
  {
   "cell_type": "markdown",
   "metadata": {},
   "source": [
    "## count missing values and number of samples"
   ]
  },
  {
   "cell_type": "code",
   "execution_count": 34,
   "metadata": {},
   "outputs": [
    {
     "name": "stdout",
     "output_type": "stream",
     "text": [
      "Number of samples\n",
      "\n",
      " (725, 171)\n",
      "Missing values ratio\n",
      " rockets_p1     0.598621\n",
      "rockets_i1     0.598621\n",
      "COMT_Ranked    0.615172\n",
      "grant_bias     0.750345\n",
      "dtype: float64\n"
     ]
    }
   ],
   "source": [
    "print(\"Number of samples\\n\\n\", df.shape)\n",
    "missing = df.isnull().sum()/df.shape[0]\n",
    "print(\"Missing values ratio\\n\", missing[missing > 0.5])#, \"\\nMissing values\\n\", df.isnull().sum())\n"
   ]
  },
  {
   "cell_type": "markdown",
   "metadata": {},
   "source": [
    "## handle missing data"
   ]
  },
  {
   "cell_type": "code",
   "execution_count": 35,
   "metadata": {},
   "outputs": [
    {
     "name": "stdout",
     "output_type": "stream",
     "text": [
      "Number of samples\n",
      "\n",
      " (725, 171)\n"
     ]
    }
   ],
   "source": [
    "df = df.dropna(axis=1, thresh = 0.5)\n",
    "df = df.dropna(axis=0, thresh = 0.9)\n",
    "df = df[~df[\"PCL_Broad3\"].isna()]\n",
    "print(\"Number of samples\\n\\n\", df.shape)"
   ]
  },
  {
   "cell_type": "code",
   "execution_count": 36,
   "metadata": {},
   "outputs": [
    {
     "data": {
      "text/plain": [
       "30"
      ]
     },
     "execution_count": 36,
     "metadata": {},
     "output_type": "execute_result"
    }
   ],
   "source": [
    "df.iloc[1].unique().shape[0]"
   ]
  },
  {
   "cell_type": "markdown",
   "metadata": {},
   "source": [
    "## Look at the unique values of the categorical values"
   ]
  },
  {
   "cell_type": "code",
   "execution_count": 37,
   "metadata": {},
   "outputs": [],
   "source": [
    "binary_features = [\"highschool_diploma\", \"Hebrew\", \"dyslexia\", \n",
    "                           \"ADHD\", \"Training\", \"PCL_Strict1\", \"mva_p1\", \n",
    "                           \"mva_i1\", \"violent1\", \"sexual1\", \"rockets_p1\",\n",
    "                           \"rockets_i1\", \"military_exposure_unit\"]"
   ]
  },
  {
   "cell_type": "code",
   "execution_count": 38,
   "metadata": {},
   "outputs": [],
   "source": [
    "categorial_features1 = [\"age\",\"active_coping1\", \"planning1\", \n",
    "                            \"positive_reframing1\", \"acceptance1\",\n",
    "                            \"humor1\",\"religion1\", \"emotional_support1\",\n",
    "                            \"instrumental_support1\", \"self_distraction1\"]\n",
    "categorial_features2 = [\"denial1\", \"venting1\", \"substance_use1\", \"behavioral_disengagement1\",\n",
    "                            \"self_blame1\", \"trauma_history6_1\", \"Ashken_scale\",\n",
    "                            \"Sephar_scale\", \"Unknown\", \"HML_NPY\", \"COMT_Hap1_recode\",\n",
    "                            \"COMT_Hap2_recode\", \"HML_FKBP5\",\"HML_5HTT\",\n",
    "                           \"HL_MAOA\", \"COMT_Ranked\", \"COMT_Hap1_LvsMH\"]\n"
   ]
  },
  {
   "cell_type": "code",
   "execution_count": 39,
   "metadata": {},
   "outputs": [],
   "source": [
    "numerical_features = [ \"T1Acc1t\", \"T1Acc1n\", \"T2Acc1t\",\n",
    "                            \"T2Acc1n\", \"T1ETBE\", \"T1bias\", \"T2bias\",\n",
    "                      \"state1\", \"state2\", \"trait1\",\n",
    "                      \"trait2\", \"lot1\", \"lot2\", \n",
    "                      \"phq1\", \"phq2\", \"cd_risc1\"]"
   ]
  },
  {
   "cell_type": "code",
   "execution_count": 40,
   "metadata": {},
   "outputs": [],
   "source": [
    "df[binary_features] = df[binary_features].fillna(df.mode().iloc[0])\n",
    "num = categorial_features1+categorial_features2+numerical_features\n",
    "df[num] = df[num].fillna(df.mean())"
   ]
  },
  {
   "cell_type": "code",
   "execution_count": 41,
   "metadata": {},
   "outputs": [],
   "source": [
    "from sklearn.utils import shuffle\n",
    "df = shuffle(df)\n",
    "Y = df[\"PCL_Broad3\"]\n",
    "X = df.drop(\"PCL_Broad3\", axis=1)"
   ]
  },
  {
   "cell_type": "code",
   "execution_count": 42,
   "metadata": {},
   "outputs": [
    {
     "data": {
      "text/plain": [
       "0.028915117820665522"
      ]
     },
     "execution_count": 42,
     "metadata": {},
     "output_type": "execute_result"
    }
   ],
   "source": [
    "X = df['age']\n",
    "import numpy as np\n",
    "\n",
    "np.corrcoef(X, Y)[1,0]"
   ]
  },
  {
   "cell_type": "code",
   "execution_count": 43,
   "metadata": {},
   "outputs": [],
   "source": [
    "from sklearn.ensemble import RandomForestClassifier, GradientBoostingClassifier\n",
    "from sklearn.model_selection import train_test_split\n",
    "from sklearn.model_selection import cross_val_score\n",
    "from sklearn.metrics import accuracy_score, f1_score\n",
    "from sklearn.decomposition import PCA"
   ]
  },
  {
   "cell_type": "code",
   "execution_count": 44,
   "metadata": {},
   "outputs": [
    {
     "ename": "ValueError",
     "evalue": "Expected 2D array, got 1D array instead:\narray=[19. 18. 18. 19. 18. 20. 21. 18. 19. 18. 19. 18. 18. 18. 18. 18. 19. 18.\n 19. 19. 19. 19. 20. 18. 20. 18. 19. 18. 19. 20. 19. 18. 20. 19. 18. 18.\n 19. 20. 18. 20. 18. 18. 18. 19. 19. 20. 19. 18. 19. 18. 19. 19. 18. 19.\n 18. 18. 18. 19. 20. 18. 19. 18. 19. 22. 20. 19. 18. 19. 20. 18. 18. 18.\n 18. 19. 19. 18. 19. 18. 19. 20. 18. 19. 19. 19. 18. 20. 19. 18. 18. 19.\n 18. 20. 19. 19. 18. 18. 19. 22. 20. 18. 18. 18. 19. 19. 22. 18. 20. 18.\n 19. 18. 19. 19. 20. 21. 19. 20. 19. 19. 19. 22. 18. 20. 19. 18. 19. 20.\n 19. 18. 18. 18. 19. 19. 20. 19. 20. 22. 18. 19. 20. 18. 18. 20. 19. 19.\n 18. 18. 18. 18. 18. 18. 18. 18. 19. 18. 18. 20. 18. 18. 18. 19. 19. 19.\n 18. 19. 19. 18. 19. 20. 18. 19. 18. 18. 18. 18. 19. 19. 19. 18. 19. 20.\n 18. 18. 18. 19. 19. 18. 19. 19. 20. 19. 18. 20. 20. 19. 19. 18. 19. 19.\n 18. 24. 19. 19. 19. 20. 19. 19. 19. 19. 19. 19. 19. 19. 20. 20. 18. 20.\n 18. 18. 18. 21. 19. 18. 19. 20. 18. 19. 18. 18. 19. 18. 18. 18. 18. 19.\n 18. 19. 19. 19. 18. 19. 18. 18. 18. 20. 19. 18. 20. 19. 19. 18. 20. 21.\n 18. 19. 18. 18. 19. 20. 23. 19. 18. 19. 19. 20. 18. 19. 18. 19. 18. 19.\n 18. 19. 18. 18. 18. 20. 19. 18. 20. 18. 18. 18. 19. 18. 20. 20. 18. 18.\n 18. 18. 18. 18. 19. 18. 23. 20. 18. 18. 20. 19. 19. 20. 19. 18. 20. 19.\n 19. 20. 23. 18. 18. 20. 18. 18. 19. 20. 19. 18. 18. 20. 18. 19. 19. 18.\n 18. 18. 18. 19. 18. 18. 20. 20. 18. 19. 18. 18. 19. 18. 20. 18. 19. 18.\n 18. 20. 19. 18. 18. 19. 19. 19. 19. 19. 18. 18. 18. 19. 19. 19. 18. 18.\n 18. 19. 18. 18. 19. 19. 18. 19. 19. 21. 20. 18. 18. 19. 19. 19. 23. 18.\n 19. 18. 18. 18. 19. 19. 18. 19. 18. 20. 20. 18. 18. 19. 18. 18. 18. 19.\n 18. 18. 18. 19. 18. 19. 19. 18. 19. 20. 18. 18. 19. 18. 18. 19. 21. 19.\n 18. 18. 20. 18. 18. 19. 19. 19. 19. 19. 20. 19. 18. 19. 20. 18. 18. 18.\n 19. 19. 18. 18. 20. 19. 19. 19. 19. 18. 18. 19. 18. 19. 18. 18. 18. 20.\n 18. 19. 19. 18. 18. 18. 22. 20. 19. 18. 18. 18. 18. 19. 19. 19. 19. 23.\n 18. 24. 19. 19. 18. 18. 19. 19. 19. 18. 19. 20. 20. 20. 19. 18. 18. 18.\n 19. 20. 20. 18. 19. 18. 23. 21. 18. 20. 19. 18. 19. 19. 19. 19. 20. 20.\n 19. 19. 20. 18. 19. 20. 18. 18. 19. 19. 18. 18. 18. 19. 19. 19. 18. 18.\n 18. 18. 18. 19. 18. 18. 19. 19. 19. 19. 18. 18. 20. 19. 18. 18. 23. 18.\n 22. 19. 22. 19. 19. 19. 18. 18. 18. 19. 21. 20. 18. 19. 18. 18. 19. 19.\n 18. 19. 18. 19. 19. 18. 18. 20. 19. 19. 18. 19. 20. 20. 19. 18. 18. 18.\n 20. 19. 18. 18. 19. 18. 18. 19. 20. 19. 20. 18. 18. 20. 19. 20. 20. 21.\n 19. 18. 19. 18. 19. 18. 18. 18. 18. 18. 19. 20. 18. 18. 21. 19. 19. 19.\n 19. 18. 20. 18. 20. 19. 23. 19. 18. 18. 20. 18. 19. 19. 19. 19. 18. 20.\n 19. 18. 18. 18. 18. 19. 18. 18. 20. 18. 18. 19. 18. 18. 20. 22. 18. 19.\n 19. 20. 18. 19. 18. 19. 20. 19. 19. 18. 19. 19. 18. 18. 18. 18. 18. 21.\n 18. 18. 21. 19. 19. 19. 19. 19. 19. 19. 19. 18. 20. 18. 19. 18. 18. 18.\n 20. 19. 19. 18. 18. 19. 19. 19. 19. 18. 20. 18. 20. 18. 19. 20. 20. 19.\n 18. 19. 20. 18. 19. 18. 19. 19. 19. 18. 20. 21. 18. 20. 21. 19. 18. 18.\n 18. 19. 18. 18. 18.].\nReshape your data either using array.reshape(-1, 1) if your data has a single feature or array.reshape(1, -1) if it contains a single sample.",
     "output_type": "error",
     "traceback": [
      "\u001b[1;31m---------------------------------------------------------------------------\u001b[0m",
      "\u001b[1;31mValueError\u001b[0m                                Traceback (most recent call last)",
      "\u001b[1;32m<ipython-input-44-ae8cbddcb337>\u001b[0m in \u001b[0;36m<module>\u001b[1;34m()\u001b[0m\n\u001b[0;32m      1\u001b[0m \u001b[0mpca\u001b[0m \u001b[1;33m=\u001b[0m \u001b[0mPCA\u001b[0m\u001b[1;33m(\u001b[0m\u001b[0mn_components\u001b[0m \u001b[1;33m=\u001b[0m \u001b[1;36m0.9\u001b[0m\u001b[1;33m)\u001b[0m\u001b[1;33m\u001b[0m\u001b[0m\n\u001b[1;32m----> 2\u001b[1;33m \u001b[0mX\u001b[0m \u001b[1;33m=\u001b[0m \u001b[0mpca\u001b[0m\u001b[1;33m.\u001b[0m\u001b[0mfit_transform\u001b[0m\u001b[1;33m(\u001b[0m\u001b[0mX\u001b[0m\u001b[1;33m)\u001b[0m\u001b[1;33m\u001b[0m\u001b[0m\n\u001b[0m\u001b[0;32m      3\u001b[0m \u001b[1;33m\u001b[0m\u001b[0m\n\u001b[0;32m      4\u001b[0m \u001b[0mX_train\u001b[0m\u001b[1;33m,\u001b[0m \u001b[0mX_test\u001b[0m\u001b[1;33m,\u001b[0m \u001b[0my_train\u001b[0m\u001b[1;33m,\u001b[0m \u001b[0my_test\u001b[0m \u001b[1;33m=\u001b[0m \u001b[0mtrain_test_split\u001b[0m\u001b[1;33m(\u001b[0m\u001b[0mX\u001b[0m\u001b[1;33m,\u001b[0m \u001b[0mY\u001b[0m\u001b[1;33m,\u001b[0m \u001b[0mtest_size\u001b[0m \u001b[1;33m=\u001b[0m \u001b[1;36m0.4\u001b[0m\u001b[1;33m)\u001b[0m\u001b[1;33m\u001b[0m\u001b[0m\n\u001b[0;32m      5\u001b[0m \u001b[0mclf\u001b[0m \u001b[1;33m=\u001b[0m \u001b[0mGradientBoostingClassifier\u001b[0m\u001b[1;33m(\u001b[0m\u001b[0mlearning_rate\u001b[0m \u001b[1;33m=\u001b[0m \u001b[1;36m0.2\u001b[0m\u001b[1;33m)\u001b[0m\u001b[1;33m\u001b[0m\u001b[0m\n",
      "\u001b[1;32mC:\\Anaconda\\lib\\site-packages\\sklearn\\decomposition\\pca.py\u001b[0m in \u001b[0;36mfit_transform\u001b[1;34m(self, X, y)\u001b[0m\n\u001b[0;32m    346\u001b[0m \u001b[1;33m\u001b[0m\u001b[0m\n\u001b[0;32m    347\u001b[0m         \"\"\"\n\u001b[1;32m--> 348\u001b[1;33m         \u001b[0mU\u001b[0m\u001b[1;33m,\u001b[0m \u001b[0mS\u001b[0m\u001b[1;33m,\u001b[0m \u001b[0mV\u001b[0m \u001b[1;33m=\u001b[0m \u001b[0mself\u001b[0m\u001b[1;33m.\u001b[0m\u001b[0m_fit\u001b[0m\u001b[1;33m(\u001b[0m\u001b[0mX\u001b[0m\u001b[1;33m)\u001b[0m\u001b[1;33m\u001b[0m\u001b[0m\n\u001b[0m\u001b[0;32m    349\u001b[0m         \u001b[0mU\u001b[0m \u001b[1;33m=\u001b[0m \u001b[0mU\u001b[0m\u001b[1;33m[\u001b[0m\u001b[1;33m:\u001b[0m\u001b[1;33m,\u001b[0m \u001b[1;33m:\u001b[0m\u001b[0mself\u001b[0m\u001b[1;33m.\u001b[0m\u001b[0mn_components_\u001b[0m\u001b[1;33m]\u001b[0m\u001b[1;33m\u001b[0m\u001b[0m\n\u001b[0;32m    350\u001b[0m \u001b[1;33m\u001b[0m\u001b[0m\n",
      "\u001b[1;32mC:\\Anaconda\\lib\\site-packages\\sklearn\\decomposition\\pca.py\u001b[0m in \u001b[0;36m_fit\u001b[1;34m(self, X)\u001b[0m\n\u001b[0;32m    368\u001b[0m \u001b[1;33m\u001b[0m\u001b[0m\n\u001b[0;32m    369\u001b[0m         X = check_array(X, dtype=[np.float64, np.float32], ensure_2d=True,\n\u001b[1;32m--> 370\u001b[1;33m                         copy=self.copy)\n\u001b[0m\u001b[0;32m    371\u001b[0m \u001b[1;33m\u001b[0m\u001b[0m\n\u001b[0;32m    372\u001b[0m         \u001b[1;31m# Handle n_components==None\u001b[0m\u001b[1;33m\u001b[0m\u001b[1;33m\u001b[0m\u001b[0m\n",
      "\u001b[1;32mC:\\Anaconda\\lib\\site-packages\\sklearn\\utils\\validation.py\u001b[0m in \u001b[0;36mcheck_array\u001b[1;34m(array, accept_sparse, dtype, order, copy, force_all_finite, ensure_2d, allow_nd, ensure_min_samples, ensure_min_features, warn_on_dtype, estimator)\u001b[0m\n\u001b[0;32m    439\u001b[0m                     \u001b[1;34m\"Reshape your data either using array.reshape(-1, 1) if \"\u001b[0m\u001b[1;33m\u001b[0m\u001b[0m\n\u001b[0;32m    440\u001b[0m                     \u001b[1;34m\"your data has a single feature or array.reshape(1, -1) \"\u001b[0m\u001b[1;33m\u001b[0m\u001b[0m\n\u001b[1;32m--> 441\u001b[1;33m                     \"if it contains a single sample.\".format(array))\n\u001b[0m\u001b[0;32m    442\u001b[0m             \u001b[0marray\u001b[0m \u001b[1;33m=\u001b[0m \u001b[0mnp\u001b[0m\u001b[1;33m.\u001b[0m\u001b[0matleast_2d\u001b[0m\u001b[1;33m(\u001b[0m\u001b[0marray\u001b[0m\u001b[1;33m)\u001b[0m\u001b[1;33m\u001b[0m\u001b[0m\n\u001b[0;32m    443\u001b[0m             \u001b[1;31m# To ensure that array flags are maintained\u001b[0m\u001b[1;33m\u001b[0m\u001b[1;33m\u001b[0m\u001b[0m\n",
      "\u001b[1;31mValueError\u001b[0m: Expected 2D array, got 1D array instead:\narray=[19. 18. 18. 19. 18. 20. 21. 18. 19. 18. 19. 18. 18. 18. 18. 18. 19. 18.\n 19. 19. 19. 19. 20. 18. 20. 18. 19. 18. 19. 20. 19. 18. 20. 19. 18. 18.\n 19. 20. 18. 20. 18. 18. 18. 19. 19. 20. 19. 18. 19. 18. 19. 19. 18. 19.\n 18. 18. 18. 19. 20. 18. 19. 18. 19. 22. 20. 19. 18. 19. 20. 18. 18. 18.\n 18. 19. 19. 18. 19. 18. 19. 20. 18. 19. 19. 19. 18. 20. 19. 18. 18. 19.\n 18. 20. 19. 19. 18. 18. 19. 22. 20. 18. 18. 18. 19. 19. 22. 18. 20. 18.\n 19. 18. 19. 19. 20. 21. 19. 20. 19. 19. 19. 22. 18. 20. 19. 18. 19. 20.\n 19. 18. 18. 18. 19. 19. 20. 19. 20. 22. 18. 19. 20. 18. 18. 20. 19. 19.\n 18. 18. 18. 18. 18. 18. 18. 18. 19. 18. 18. 20. 18. 18. 18. 19. 19. 19.\n 18. 19. 19. 18. 19. 20. 18. 19. 18. 18. 18. 18. 19. 19. 19. 18. 19. 20.\n 18. 18. 18. 19. 19. 18. 19. 19. 20. 19. 18. 20. 20. 19. 19. 18. 19. 19.\n 18. 24. 19. 19. 19. 20. 19. 19. 19. 19. 19. 19. 19. 19. 20. 20. 18. 20.\n 18. 18. 18. 21. 19. 18. 19. 20. 18. 19. 18. 18. 19. 18. 18. 18. 18. 19.\n 18. 19. 19. 19. 18. 19. 18. 18. 18. 20. 19. 18. 20. 19. 19. 18. 20. 21.\n 18. 19. 18. 18. 19. 20. 23. 19. 18. 19. 19. 20. 18. 19. 18. 19. 18. 19.\n 18. 19. 18. 18. 18. 20. 19. 18. 20. 18. 18. 18. 19. 18. 20. 20. 18. 18.\n 18. 18. 18. 18. 19. 18. 23. 20. 18. 18. 20. 19. 19. 20. 19. 18. 20. 19.\n 19. 20. 23. 18. 18. 20. 18. 18. 19. 20. 19. 18. 18. 20. 18. 19. 19. 18.\n 18. 18. 18. 19. 18. 18. 20. 20. 18. 19. 18. 18. 19. 18. 20. 18. 19. 18.\n 18. 20. 19. 18. 18. 19. 19. 19. 19. 19. 18. 18. 18. 19. 19. 19. 18. 18.\n 18. 19. 18. 18. 19. 19. 18. 19. 19. 21. 20. 18. 18. 19. 19. 19. 23. 18.\n 19. 18. 18. 18. 19. 19. 18. 19. 18. 20. 20. 18. 18. 19. 18. 18. 18. 19.\n 18. 18. 18. 19. 18. 19. 19. 18. 19. 20. 18. 18. 19. 18. 18. 19. 21. 19.\n 18. 18. 20. 18. 18. 19. 19. 19. 19. 19. 20. 19. 18. 19. 20. 18. 18. 18.\n 19. 19. 18. 18. 20. 19. 19. 19. 19. 18. 18. 19. 18. 19. 18. 18. 18. 20.\n 18. 19. 19. 18. 18. 18. 22. 20. 19. 18. 18. 18. 18. 19. 19. 19. 19. 23.\n 18. 24. 19. 19. 18. 18. 19. 19. 19. 18. 19. 20. 20. 20. 19. 18. 18. 18.\n 19. 20. 20. 18. 19. 18. 23. 21. 18. 20. 19. 18. 19. 19. 19. 19. 20. 20.\n 19. 19. 20. 18. 19. 20. 18. 18. 19. 19. 18. 18. 18. 19. 19. 19. 18. 18.\n 18. 18. 18. 19. 18. 18. 19. 19. 19. 19. 18. 18. 20. 19. 18. 18. 23. 18.\n 22. 19. 22. 19. 19. 19. 18. 18. 18. 19. 21. 20. 18. 19. 18. 18. 19. 19.\n 18. 19. 18. 19. 19. 18. 18. 20. 19. 19. 18. 19. 20. 20. 19. 18. 18. 18.\n 20. 19. 18. 18. 19. 18. 18. 19. 20. 19. 20. 18. 18. 20. 19. 20. 20. 21.\n 19. 18. 19. 18. 19. 18. 18. 18. 18. 18. 19. 20. 18. 18. 21. 19. 19. 19.\n 19. 18. 20. 18. 20. 19. 23. 19. 18. 18. 20. 18. 19. 19. 19. 19. 18. 20.\n 19. 18. 18. 18. 18. 19. 18. 18. 20. 18. 18. 19. 18. 18. 20. 22. 18. 19.\n 19. 20. 18. 19. 18. 19. 20. 19. 19. 18. 19. 19. 18. 18. 18. 18. 18. 21.\n 18. 18. 21. 19. 19. 19. 19. 19. 19. 19. 19. 18. 20. 18. 19. 18. 18. 18.\n 20. 19. 19. 18. 18. 19. 19. 19. 19. 18. 20. 18. 20. 18. 19. 20. 20. 19.\n 18. 19. 20. 18. 19. 18. 19. 19. 19. 18. 20. 21. 18. 20. 21. 19. 18. 18.\n 18. 19. 18. 18. 18.].\nReshape your data either using array.reshape(-1, 1) if your data has a single feature or array.reshape(1, -1) if it contains a single sample."
     ]
    }
   ],
   "source": [
    "pca = PCA(n_components = 0.9)\n",
    "X = pca.fit_transform(X)\n",
    "\n",
    "X_train, X_test, y_train, y_test = train_test_split(X, Y, test_size = 0.4)\n",
    "clf = GradientBoostingClassifier(learning_rate = 0.2)\n",
    "#cross_val_score(clf, X, Y, scoring='f1')\n",
    "clf.fit(X_train, y_train)\n",
    "y_pred = clf.predict(X_test)\n",
    "accuracy_score(y_pred, y_test)"
   ]
  },
  {
   "cell_type": "code",
   "execution_count": 221,
   "metadata": {},
   "outputs": [
    {
     "data": {
      "text/plain": [
       "0.0896551724137931"
      ]
     },
     "execution_count": 221,
     "metadata": {},
     "output_type": "execute_result"
    }
   ],
   "source": [
    "Y.sum()/Y.shape[0]"
   ]
  },
  {
   "cell_type": "code",
   "execution_count": 220,
   "metadata": {},
   "outputs": [
    {
     "data": {
      "text/plain": [
       "725"
      ]
     },
     "execution_count": 220,
     "metadata": {},
     "output_type": "execute_result"
    }
   ],
   "source": [
    "Y.shape[0]"
   ]
  },
  {
   "cell_type": "code",
   "execution_count": 54,
   "metadata": {},
   "outputs": [
    {
     "data": {
      "image/png": "[encoded data removed]",
      "text/plain": [
       "<matplotlib.figure.Figure at 0x2a2ade5bcf8>"
      ]
     },
     "metadata": {},
     "output_type": "display_data"
    }
   ],
   "source": [
    "path = \"PTSD.xlsx\"\n",
    "df = pd.read_excel(path)\n",
    "df = df[~df[\"PCL3\"].isna()]\n",
    "plt.hist(positive_group, bins, alpha=0.7, label='high', color='b')\n",
    "plt.hist(negative_group, bins, alpha=0.7, label='low', color='r')\n",
    "plt.hist(df[\"PCL3\"], bins=50);"
   ]
  },
  {
   "cell_type": "code",
   "execution_count": null,
   "metadata": {},
   "outputs": [],
   "source": []
  }
 ],
 "metadata": {
  "kernelspec": {
   "display_name": "Python 3",
   "language": "python",
   "name": "python3"
  },
  "language_info": {
   "codemirror_mode": {
    "name": "ipython",
    "version": 3
   },
   "file_extension": ".py",
   "mimetype": "text/x-python",
   "name": "python",
   "nbconvert_exporter": "python",
   "pygments_lexer": "ipython3",
   "version": "3.6.4"
  }
 },
 "nbformat": 4,
 "nbformat_minor": 2
}
