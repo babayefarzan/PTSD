{
 "cells": [
  {
   "cell_type": "code",
   "execution_count": 23,
   "metadata": {},
   "outputs": [],
   "source": [
    "import numpy as np\n",
    "import pandas as pd\n",
    "from keras.callbacks import EarlyStopping, ModelCheckpoint\n",
    "from sklearn.utils import shuffle\n",
    "from sklearn.ensemble import RandomForestClassifier, GradientBoostingClassifier, GradientBoostingRegressor\n",
    "from sklearn.model_selection import train_test_split\n",
    "from sklearn.model_selection import cross_val_score, StratifiedKFold\n",
    "from sklearn.metrics import accuracy_score, f1_score,precision_score, recall_score, roc_auc_score\n",
    "from sklearn.decomposition import PCA\n",
    "from sklearn.utils import shuffle\n",
    "from sklearn.neural_network import MLPClassifier\n",
    "from sklearn.svm import SVC\n",
    "from sklearn.naive_bayes import GaussianNB\n",
    "from sklearn.tree import DecisionTreeClassifier\n",
    "from sklearn.mixture import GaussianMixture\n",
    "from sklearn.linear_model import LogisticRegression\n",
    "from imblearn.over_sampling import SMOTE\n",
    "from sklearn.impute import SimpleImputer\n",
    "import tensorflow.keras\n",
    "import keras.metrics\n",
    "from sklearn.cluster import DBSCAN\n",
    "\n",
    "from keras.layers import Dense, Dropout, Conv2D, MaxPooling2D, Input\n",
    "from keras.models import Sequential\n",
    "from keras.callbacks import History \n",
    "from keras.utils import plot_model\n",
    "from keras.optimizers import SGD\n",
    "from keras.models import Model\n",
    "from imblearn.under_sampling import RandomUnderSampler\n",
    "from sklearn.semi_supervised import LabelSpreading, LabelPropagation\n",
    "import featuretools as ft\n",
    "from sklearn.preprocessing import StandardScaler\n",
    "import random \n"
   ]
  },
  {
   "cell_type": "code",
   "execution_count": 24,
   "metadata": {},
   "outputs": [],
   "source": [
    "path = \"PTSD.xlsx\"\n",
    "df = pd.read_excel(path)\n",
    "df = df[~df[\"PCL_Strict3\"].isna()]"
   ]
  },
  {
   "cell_type": "code",
   "execution_count": 25,
   "metadata": {},
   "outputs": [],
   "source": [
    "features = [\"age\", \"highschool_diploma\",  \"dyslexia\", \"ADHD\", \"T1Acc1t\", \"T1Acc1n\", \"T1bias\", \"phq1\", \"lot1\", \"trait1\",\n",
    "               \"state1\", \"PCL1\",  \"PCL_Broad1\", \"PCL_Strict1\", \"phq2\", \"lot2\", \"trait2\", \"state2\", \"PCL2\", \"PCL_Broad2\", \n",
    "                 \"PCL_Strict2\", \"cd_risc1\", \"active_coping1\", \"planning1\", \"positive_reframing1\", \"acceptance1\", \"humor1\",\n",
    "                 \"religion1\", \"emotional_support1\",\"instrumental_support1\", \"self_distraction1\", \"denial1\", \n",
    "               \"venting1\", \"substance_use1\", \"behavioral_disengagement1\", \"self_blame1\", \"active_coping2\", \"planning2\",\n",
    "                \"positive_reframing2\", \"acceptance2\", \"humor2\", \"religion2\", \"emotional_support2\", \"instrumental_support2\", \n",
    "                 \"self_distraction2\", \"denial2\", \"venting2\", \"substance_use2\", \"behavioral_disengagement2\", \"self_blame2\",\n",
    "                 \"trauma_history8_1\", \"HML_5HTT\", \"HL_MAOA\", \"HML_NPY\", \"COMT_Ranked\", \"COMT_Hap1_recode\", \n",
    "               \"COMT_Hap2_recode\", \"COMT_Hap1_LvsMH\", \"HML_FKBP5\", \"bad_features\"]"
   ]
  },
  {
   "cell_type": "code",
   "execution_count": 26,
   "metadata": {},
   "outputs": [],
   "source": [
    "bad_features = [\"T1ETBE\", \"T1bias\", \"state1\", \"state2\", \"trait1\", \"trait2\", \"phq1\", \"phq2\", \"PCL1\", \"PCL2\",\n",
    "                \"denial1\", \"substance_use1\", \"self_blame1\", \"denial2\", \"substance_use2\",\"self_blame2\",\n",
    "                         \"trauma_history8_1\"]\n",
    "numerical_features = [ \"T1ETBE\", \"T1Acc1t\", \"T1Acc1n\", \"T1bias\", \"T2Acc1t\",\"T2Acc1n\", \"T2bias\", \"state1\", \"state2\",\n",
    "                        \"trait1\", \"trait2\", \"lot1\", \"lot2\", \"phq1\", \"phq2\", \"cd_risc1\", \"PCL1\", \"PCL2\", \"bad_features\"]\n",
    "categorical_features = [\"age\", \"highschool_diploma\",  \"dyslexia\", \"ADHD\", \"T1Acc1t\", \"T1Acc1n\", \"T1bias\", \"phq1\", \"lot1\", \"trait1\",\n",
    "               \"state1\", \"PCL1\",  \"PCL_Broad1\", \"PCL_Strict1\", \"phq2\", \"lot2\", \"trait2\", \"state2\", \"PCL2\", \"PCL_Broad2\", \n",
    "                 \"PCL_Strict2\", \"cd_risc1\", \"active_coping1\", \"planning1\", \"positive_reframing1\", \"acceptance1\", \"humor1\",\n",
    "                 \"religion1\", \"emotional_support1\",\"instrumental_support1\", \"self_distraction1\", \"denial1\", \n",
    "               \"venting1\", \"substance_use1\", \"behavioral_disengagement1\", \"self_blame1\", \"active_coping2\", \"planning2\",\n",
    "                \"positive_reframing2\", \"acceptance2\", \"humor2\", \"religion2\", \"emotional_support2\", \"instrumental_support2\", \n",
    "                 \"self_distraction2\", \"denial2\", \"venting2\", \"substance_use2\", \"behavioral_disengagement2\", \"self_blame2\",\n",
    "                 \"trauma_history8_1\", \"HML_5HTT\", \"HL_MAOA\", \"HML_NPY\", \"COMT_Ranked\", \"COMT_Hap1_recode\", \n",
    "               \"COMT_Hap2_recode\", \"COMT_Hap1_LvsMH\", \"HML_FKBP5\", \"Ashken_scale\", \"Sephar_scale\", \"Unknown\"]\n",
    "\n",
    "df['bad_features'] = (df > df.mean())[bad_features].sum(axis=1)\n",
    "\n",
    "imp = SimpleImputer(missing_values=np.nan, strategy='mean')\n",
    "df[numerical_features] = imp.fit_transform(df[numerical_features])\n",
    "\n",
    "imp = SimpleImputer(missing_values=np.nan, strategy='most_frequent')\n",
    "df[categorical_features] = imp.fit_transform(df[categorical_features])\n",
    "\n",
    "pca = PCA(n_components = 1)\n",
    "df[\"pcls\"] = pca.fit_transform(df[[\"PCL1\",  \"PCL_Broad1\", \"PCL_Strict1\"]])\n",
    "df.drop([\"PCL1\",  \"PCL_Broad1\", \"PCL_Strict1\"], axis=1, inplace=True)\n",
    "features.append(\"pcls\")\n",
    "features.remove(\"PCL1\")\n",
    "features.remove(\"PCL_Broad1\")\n",
    "features.remove(\"PCL_Strict1\")\n",
    "\n",
    "\n",
    "X = df[features]\n",
    "\n",
    "\n",
    "ss = StandardScaler()\n",
    "X = ss.fit_transform(X)\n",
    "\n",
    "\n",
    "Y = df[\"PCL_Strict3\"]"
   ]
  },
  {
   "cell_type": "code",
   "execution_count": 27,
   "metadata": {},
   "outputs": [],
   "source": [
    "rand_item = eval(\"['PCL2', 'positive_reframing1', 'trauma_history8_1', 'lot2', 'T1bias', 'emotional_support1', 'self_blame1', 'PCL2']\")\n",
    "\n",
    "pca = PCA(n_components = 2)\n",
    "data_transformed = df[rand_item]\n",
    "data_transformed = pca.fit_transform(data_transformed)\n",
    "\n",
    "db = DBSCAN(eps=0.5, min_samples=10, leaf_size=30).fit(X)\n",
    "X = np.hstack((db.labels_.reshape(-1,1), X))\n",
    "\n",
    "\n",
    "rand_item = eval(\"['instrumental_support1', 'COMT_Hap1_recode', 'dyslexia', 'HL_MAOA', 'lot1', 'active_coping2', 'ADHD']\")\n",
    "\n",
    "pca = PCA(n_components = 2)\n",
    "data_transformed = df[rand_item]\n",
    "data_transformed = pca.fit_transform(data_transformed)\n",
    "\n",
    "db = DBSCAN(eps=0.7, min_samples=10, leaf_size=30).fit(X)\n",
    "X = np.hstack((db.labels_.reshape(-1,1), X))\n",
    "\n",
    "\n",
    "rand_item = eval(\"['COMT_Hap1_LvsMH', 'venting2', 'positive_reframing2', 'COMT_Ranked', 'behavioral_disengagement2', 'trait1', 'HL_MAOA', 'HL_MAOA']\")\n",
    "\n",
    "pca = PCA(n_components = 2)\n",
    "data_transformed = df[rand_item]\n",
    "data_transformed = pca.fit_transform(data_transformed)\n",
    "\n",
    "db = DBSCAN(eps=0.5, min_samples=10, leaf_size=30).fit(X)\n",
    "X = np.hstack((db.labels_.reshape(-1,1), X))\n",
    "\n",
    "\n",
    "rand_item = eval(\"['PCL_Strict2', 'emotional_support2', 'PCL_Broad2', 'emotional_support1', 'COMT_Hap1_LvsMH', 'HML_FKBP5', 'lot1', 'COMT_Hap1_LvsMH', 'COMT_Hap2_recode', 'state1']\")\n",
    "\n",
    "pca = PCA(n_components = 2)\n",
    "data_transformed = df[rand_item]\n",
    "data_transformed = pca.fit_transform(data_transformed)\n",
    "\n",
    "db = DBSCAN(eps=0.6, min_samples=10, leaf_size=30).fit(X)\n",
    "X = np.hstack((db.labels_.reshape(-1,1), X))\n",
    "\n",
    "\n",
    "rand_item = eval(\"['phq2', 'substance_use1', 'instrumental_support2', 'substance_use1', 'trait1']\")\n",
    "\n",
    "pca = PCA(n_components = 2)\n",
    "data_transformed = df[rand_item]\n",
    "data_transformed = pca.fit_transform(data_transformed)\n",
    "\n",
    "db = DBSCAN(eps=0.5, min_samples=5, leaf_size=30).fit(X)\n",
    "X = np.hstack((db.labels_.reshape(-1,1), X))\n"
   ]
  },
  {
   "cell_type": "code",
   "execution_count": 28,
   "metadata": {},
   "outputs": [],
   "source": [
    "X_train, X_test, y_train, y_test = train_test_split(X, Y, test_size = 0.1, random_state=271828, stratify=Y)\n",
    "X_train_2, X_test_2, y_train_2, y_test_2 = train_test_split(X_train, y_train, test_size = 0.1, random_state=271828, stratify=y_train)\n"
   ]
  },
  {
   "cell_type": "code",
   "execution_count": 29,
   "metadata": {},
   "outputs": [],
   "source": [
    "def create_data(X_train, y_train):\n",
    "    X_train_3 = X_train[y_train==1]\n",
    "    y_train_3 = y_train[y_train==1]\n",
    "    X_train_4 = X_train[y_train==0][:20:]\n",
    "    y_train_4 = y_train[y_train==0][:20:]\n",
    "    X_train_5 = np.vstack((X_train_4, X_train_3))\n",
    "    y_train_5 =  np.hstack((y_train_4, y_train_3))\n",
    "    sm = SMOTE(random_state=27)\n",
    "    X_train_6, y_train_6 = sm.fit_sample(X_train_5, y_train_5.ravel())\n",
    "    X_train_6 = X_train_6[y_train_6==0]\n",
    "    y_train_6 = y_train_6[y_train_6==0]\n",
    "    return X_train_6, y_train_6"
   ]
  },
  {
   "cell_type": "code",
   "execution_count": 30,
   "metadata": {},
   "outputs": [],
   "source": [
    "def regressions(X_train, y_train, X_test):\n",
    "    gbr = GradientBoostingRegressor()\n",
    "    gbr.fit(X_train, y_train)\n",
    "    \n",
    "    X_train = np.hstack((X_train, gbr.predict(X_train).reshape(-1, 1)))\n",
    "    \n",
    "    X_test= np.hstack((X_test, gbr.predict(X_test).reshape(-1, 1)))\n",
    "    return X_train, X_test"
   ]
  },
  {
   "cell_type": "code",
   "execution_count": 31,
   "metadata": {},
   "outputs": [
    {
     "data": {
      "text/plain": [
       "'[[[40], [36], [46], [40], [50]], [[28], [8], [55], [12], [51]], [[6], [25], [41], [9], [59]], [[1], [0], [17], [46], [9]], [[8], [46], [20], [22], [58]], [[13], [26], [22], [23], [56]], [[54], [35], [0], [41], [26]], [[58], [35], [51], [12], [17]], [[23], [0], [49], [57], [36]]]'"
      ]
     },
     "execution_count": 31,
     "metadata": {},
     "output_type": "execute_result"
    }
   ],
   "source": [
    "features_groups = []\n",
    "k = 9\n",
    "for i in range(k):\n",
    "    rand_item = [[random.randrange(X.shape[1])] for i in range(5)]\n",
    "    features_groups.append(rand_item)\n",
    "repr(features_groups)"
   ]
  },
  {
   "cell_type": "code",
   "execution_count": 32,
   "metadata": {},
   "outputs": [],
   "source": [
    "preds = []\n",
    "trues= []"
   ]
  },
  {
   "cell_type": "code",
   "execution_count": null,
   "metadata": {
    "scrolled": false
   },
   "outputs": [
    {
     "name": "stdout",
     "output_type": "stream",
     "text": [
      "\n",
      "\n",
      "lim 0.5 \n",
      "first_layer 25 \n",
      "each_layer 20 \n",
      "num_smote 0.95 \n",
      "loops 1 \n",
      "class_weight {1: 1, 0: 2}\n"
     ]
    }
   ],
   "source": [
    "kfold = StratifiedKFold(n_splits=3, shuffle=True)\n",
    "cvscores = []\n",
    "y_train_2 = np.array(y_train_2)\n",
    "X_train_2 = np.array(X_train_2)\n",
    "\n",
    "for class_weight in [ {1:1,  0:2}, {1:1,  0:3}, {1:1,  0:1.5}]:\n",
    "    for num_smote in [0.95]:\n",
    "        for lim in [0.5]:\n",
    "            for first_layer in [25, 75]:\n",
    "                for loops in [1]:\n",
    "                    for each_layer in [20]:\n",
    "                        n_pca = 0.99\n",
    "                        first_layer = first_layer\n",
    "                        each_layer = each_layer\n",
    "                        num_smote = num_smote\n",
    "                        loops = loops\n",
    "                        train_scores_f = []\n",
    "                        train_scores_p = []\n",
    "                        train_scores_r = []\n",
    "                        \n",
    "                        scores_f = []\n",
    "                        scores_p = []\n",
    "                        scores_r = []\n",
    "                        print(\"\\n\\nlim\", lim, \"\\nfirst_layer\", first_layer, \n",
    "                                  \"\\neach_layer\", each_layer, \"\\nnum_smote\", num_smote,\n",
    "                              \"\\nloops\", loops, \"\\nclass_weight\", class_weight)\n",
    "                        for train, test in kfold.split(X_train_2, y_train_2):\n",
    "                            \n",
    "                            y_train_pred = np.zeros_like(y_train_2[train], dtype= 'float32').reshape(-1, 1)\n",
    "\n",
    "                            y_pred = np.zeros_like(y_train_2[test], dtype = 'float32').reshape(-1, 1)\n",
    "                            for feature_group in features_groups:\n",
    "                                sm = SMOTE(0.7)\n",
    "                                #feature_group = [features.index(i) for i in feature_group]\n",
    "                                \n",
    "                                X_train_res =  X_train_2[train,feature_group].T\n",
    "                                X_test_cv = X_train_2[test,feature_group].T\n",
    "                                y_train_res = y_train_2[train]\n",
    "                                X_train_res, y_train_res = sm.fit_sample(X_train_res, y_train_res.ravel())\n",
    "                                \n",
    "                                \n",
    "                                n_cols = X_train_res.shape[1]\n",
    "                                model = Sequential()\n",
    "\n",
    "                                model.add(Dense(first_layer, activation='elu'))\n",
    "                                model.add(Dropout(0.5))\n",
    "                              \n",
    "                                model.add(Dense(13, activation='elu'))\n",
    "                                model.add(Dropout(0.5))\n",
    "                                           \n",
    "                                #model.add(Dense(6, activation='elu'))\n",
    "                                #model.add(Dropout(0.5))\n",
    "                                \n",
    "                                model.add(Dense(1, activation='sigmoid'))\n",
    "\n",
    "                                model.compile(optimizer='adam', \n",
    "                                                  loss='binary_crossentropy')\n",
    "                                #print(X_train_res.shape)\n",
    "                                #print(X_test_cv.shape)\n",
    "                                # Fit the model\n",
    "                                callbacks = [EarlyStopping(monitor='val_loss', patience=1)]\n",
    "                                model.fit(X_train_res, y_train_res, epochs = 300, class_weight = class_weight, verbose=0, callbacks=callbacks)\n",
    "                                # evaluate the model\n",
    "                                y_pred +=  model.predict(X_test_cv)\n",
    "                                \n",
    "                                # training error\n",
    "                                y_train_pred +=  model.predict( X_train_2[train,feature_group].T) \n",
    "                                #print(y_train_pred)\n",
    "                            \n",
    "                            \n",
    "                            y_pred = (y_pred/k) \n",
    "                            preds.extend(y_pred)\n",
    "                            trues.extend(y_train_2[test])\n",
    "                            y_pred = y_pred > lim\n",
    "                            \n",
    "                            s_f = f1_score(y_train_2[test], y_pred)\n",
    "                            s_p = precision_score(y_train_2[test], y_pred)\n",
    "                            s_r = recall_score(y_train_2[test], y_pred)\n",
    "                            print(\"\\tscores f1\", (s_f))\n",
    "                            print(\"\\tscores p\", (s_p))\n",
    "                            print(\"\\tscores r\", (s_r))\n",
    "                            scores_f.append(s_f)\n",
    "                            scores_p.append(s_p)\n",
    "                            scores_r.append(s_r)\n",
    "                            \n",
    "                            y_train_pred = (y_train_pred/k) > lim\n",
    "                            train_s_f = f1_score(y_train_2[train], y_train_pred)\n",
    "                            train_s_p = precision_score(y_train_2[train], y_train_pred)\n",
    "                            train_s_r = recall_score(y_train_2[train], y_train_pred)\n",
    "                            print(\"\\tscores f1 train\", (train_s_f))\n",
    "                            print(\"\\tscores p train\", (train_s_p))\n",
    "                            print(\"\\tscores r train\", (train_s_r))\n",
    "                            train_scores_f.append(train_s_f)\n",
    "                            train_scores_p.append(train_s_p)\n",
    "                            train_scores_r.append(train_s_r)\n",
    "\n",
    "                        print(\"mean scores f1\", np.mean(scores_f))\n",
    "                        print(\"mean scores p\", np.mean(scores_p))\n",
    "                        print(\"mean scores r\", np.mean(scores_r))\n",
    "                        \n",
    "                        print(\"mean scores f1 train\", np.mean(train_scores_f))\n",
    "                        print(\"mean scores p train\", np.mean(train_scores_p))\n",
    "                        print(\"mean scores r train\", np.mean(train_scores_r))"
   ]
  },
  {
   "cell_type": "code",
   "execution_count": null,
   "metadata": {},
   "outputs": [],
   "source": [
    "preds = np.array(preds)\n",
    "trues = np.array(trues)"
   ]
  },
  {
   "cell_type": "code",
   "execution_count": null,
   "metadata": {},
   "outputs": [],
   "source": [
    "trues[np.where(preds > 0.)[0]].mean()"
   ]
  },
  {
   "cell_type": "code",
   "execution_count": null,
   "metadata": {},
   "outputs": [],
   "source": [
    "precision_score(y_train_2[test], model.predict(X_test_cv) > 0.95)"
   ]
  },
  {
   "cell_type": "code",
   "execution_count": null,
   "metadata": {},
   "outputs": [],
   "source": [
    "X_test_cv.shape"
   ]
  },
  {
   "cell_type": "code",
   "execution_count": null,
   "metadata": {},
   "outputs": [],
   "source": []
  }
 ],
 "metadata": {
  "kernelspec": {
   "display_name": "Python 3",
   "language": "python",
   "name": "python3"
  },
  "language_info": {
   "codemirror_mode": {
    "name": "ipython",
    "version": 3
   },
   "file_extension": ".py",
   "mimetype": "text/x-python",
   "name": "python",
   "nbconvert_exporter": "python",
   "pygments_lexer": "ipython3",
   "version": "3.6.4"
  }
 },
 "nbformat": 4,
 "nbformat_minor": 2
}
