{
 "cells": [
  {
   "cell_type": "code",
   "execution_count": 11,
   "metadata": {},
   "outputs": [],
   "source": [
    "import numpy as np\n",
    "import pandas as pd\n",
    "from sklearn.utils import shuffle\n",
    "from sklearn.ensemble import RandomForestClassifier, GradientBoostingClassifier\n",
    "from sklearn.model_selection import train_test_split\n",
    "from sklearn.model_selection import cross_val_score, StratifiedKFold\n",
    "from sklearn.metrics import accuracy_score, f1_score,precision_score, recall_score, roc_auc_score\n",
    "from sklearn.decomposition import PCA\n",
    "from sklearn.utils import shuffle\n",
    "from sklearn.neural_network import MLPClassifier\n",
    "from sklearn.svm import SVC\n",
    "from sklearn.naive_bayes import GaussianNB\n",
    "from sklearn.tree import DecisionTreeClassifier\n",
    "from sklearn.mixture import GaussianMixture\n",
    "from sklearn.linear_model import LogisticRegression\n",
    "from imblearn.over_sampling import SMOTE\n",
    "from sklearn.impute import SimpleImputer\n",
    "import tensorflow.keras\n",
    "# import keras.metrics\n",
    "# from keras.layers import Dense, Dropout, Conv2D, MaxPooling2D\n",
    "# from keras.models import Sequential\n",
    "# from keras.callbacks import History \n",
    "# from keras.utils import plot_model\n",
    "# from keras.optimizers import SGD\n",
    "from sklearn.cluster import DBSCAN\n",
    "from sklearn.preprocessing import StandardScaler\n",
    "from sklearn.feature_selection import RFECV, RFE\n",
    "\n",
    "\n",
    "from sklearn.base import BaseEstimator, TransformerMixin\n",
    "import numpy as np\n",
    "import pandas as pd\n",
    "from sklearn.decomposition import PCA\n",
    "import pandas as pd\n",
    "import os\n",
    "import numpy as np\n",
    "from sklearn.feature_selection import RFE\n",
    "from sklearn.ensemble import RandomForestClassifier, GradientBoostingClassifier, AdaBoostClassifier\n",
    "from sklearn.svm import SVC\n",
    "from sklearn.pipeline import Pipeline\n",
    "from sklearn.preprocessing import MinMaxScaler\n",
    "from sklearn.model_selection import StratifiedKFold, GridSearchCV\n",
    "from sklearn.tree import DecisionTreeClassifier\n",
    "from sklearn.linear_model import LogisticRegression\n",
    "from sklearn.neighbors import KNeighborsClassifier\n",
    "from sklearn.naive_bayes import GaussianNB\n",
    "from sklearn.model_selection import LeaveOneOut\n",
    "from imblearn.over_sampling import SMOTE, ADASYN\n",
    "#from imblearn.pipeline import Pipeline\n",
    "from xgboost import XGBClassifier"
   ]
  },
  {
   "cell_type": "code",
   "execution_count": 12,
   "metadata": {},
   "outputs": [],
   "source": [
    "path = \"PTSD.xlsx\"\n",
    "df = pd.read_excel(path)\n",
    "df = df[~df[\"PCL_Strict3\"].isna()]\n"
   ]
  },
  {
   "cell_type": "code",
   "execution_count": 13,
   "metadata": {},
   "outputs": [],
   "source": [
    "features = [\"cd_risc1\", \"PCL2\", \"PCL1\", \"T1bias\", \"T1Acc1n\", \"T1Acc1t\"]"
   ]
  },
  {
   "cell_type": "code",
   "execution_count": 14,
   "metadata": {},
   "outputs": [],
   "source": [
    "\n",
    "numerical_features = [ \"T1Acc1t\", \"T1Acc1n\", \"T1bias\", \"state1\", \"trait1\", \"lot1\", \"phq1\",\n",
    "                      \"cd_risc1\", \"PCL1\", \"PCL2\", \"trauma_history8_1\"]\n",
    "categorical_features = [\"age\", \"highschool_diploma\",  \"dyslexia\", \"ADHD\", \"T1Acc1t\", \"T1Acc1n\", \"T1bias\", \"phq1\", \n",
    "                        \"lot1\", \"trait1\", \"state1\",  \"PCL_Broad1\", \"PCL_Strict1\", \"active_coping1\",\n",
    "                        \"planning1\", \"positive_reframing1\", \"acceptance1\", \"humor1\", \"religion1\", \n",
    "                        \"emotional_support1\",\"instrumental_support1\", \"self_distraction1\", \"denial1\", \n",
    "                        \"venting1\", \"substance_use1\", \"behavioral_disengagement1\", \"self_blame1\"]\n",
    "\n",
    "#df['bad_features'] = (df > df.mean())[bad_features].sum(axis=1)\n",
    "\n",
    "imp = SimpleImputer(missing_values=np.nan, strategy='mean')\n",
    "df[numerical_features] = imp.fit_transform(df[numerical_features])\n",
    "\n",
    "imp = SimpleImputer(missing_values=np.nan, strategy='most_frequent')\n",
    "df[categorical_features] = imp.fit_transform(df[categorical_features])\n",
    "\n",
    "\n",
    "X = df[features]\n",
    "\n",
    "\n",
    "# ss = StandardScaler()\n",
    "# X = ss.fit_transform(X)\n",
    "\n",
    "\n",
    "Y = df[\"PCL_Strict3\"]"
   ]
  },
  {
   "cell_type": "code",
   "execution_count": 108,
   "metadata": {},
   "outputs": [],
   "source": [
    "X_train, X_test, y_train, y_test = train_test_split(X, Y, test_size = 0.1, random_state=271828, stratify=Y)\n",
    "X_train_2, X_test_2, y_train_2, y_test_2 = train_test_split(X_train, y_train, test_size = 0.1, random_state=271828, stratify=y_train)\n"
   ]
  },
  {
   "cell_type": "code",
   "execution_count": 109,
   "metadata": {},
   "outputs": [],
   "source": [
    "pipe =  Pipeline([\n",
    "                ('classifier', XGBClassifier())])"
   ]
  },
  {
   "cell_type": "code",
   "execution_count": 174,
   "metadata": {},
   "outputs": [],
   "source": [
    "params_grid = [\n",
    "    {\n",
    "       # 'pca__n_components': [0.9],\n",
    "        'classifier__min_child_weight': [1.5],\n",
    "        'classifier__gamma': [0],\n",
    "        'classifier__subsample': [0.9],\n",
    "        'classifier__colsample_bytree': [0.9],\n",
    "        'classifier__max_depth': [3],\n",
    "        'classifier__reg_alpha' : [0.5],\n",
    "        'classifier__reg_lambda' : [0.8],\n",
    "        'classifier__scale_pos_weight' : [1],\n",
    "    'classifier__learning_rate': [0.15], #so called `eta` value\n",
    "              'classifier__n_estimators': [150] #number of trees, change it to 1000 for better results\n",
    "    }]"
   ]
  },
  {
   "cell_type": "code",
   "execution_count": 176,
   "metadata": {},
   "outputs": [
    {
     "name": "stdout",
     "output_type": "stream",
     "text": [
      "0.9334470989761092\n",
      "0.9180887372013652\n",
      "0.9334470989761092\n",
      "0.9232081911262798\n",
      "0.9215017064846417\n",
      "0.9351535836177475\n",
      "0.9197952218430034\n",
      "0.9232081911262798\n",
      "0.9197952218430034\n",
      "0.9300341296928327\n"
     ]
    }
   ],
   "source": [
    "for i in range (10):\n",
    "    kfold = StratifiedKFold(n_splits=3, shuffle=True)\n",
    "    \n",
    "    gs = GridSearchCV(pipe, params_grid, cv=kfold, scoring='accuracy')\n",
    "    gs.fit(X_train_2, y_train_2,)\n",
    "    print(gs.best_score_)"
   ]
  },
  {
   "cell_type": "code",
   "execution_count": 167,
   "metadata": {},
   "outputs": [
    {
     "data": {
      "text/plain": [
       "0.3061433447098976"
      ]
     },
     "execution_count": 167,
     "metadata": {},
     "output_type": "execute_result"
    }
   ],
   "source": [
    "gs.best_score_"
   ]
  },
  {
   "cell_type": "code",
   "execution_count": 101,
   "metadata": {},
   "outputs": [
    {
     "data": {
      "text/plain": [
       "{'classifier__colsample_bytree': 0.9,\n",
       " 'classifier__gamma': 0,\n",
       " 'classifier__learning_rate': 0.15,\n",
       " 'classifier__max_depth': 3,\n",
       " 'classifier__min_child_weight': 1.5,\n",
       " 'classifier__n_estimators': 150,\n",
       " 'classifier__reg_alpha': 0.5,\n",
       " 'classifier__reg_lambda': 0.8,\n",
       " 'classifier__scale_pos_weight': 1,\n",
       " 'classifier__subsample': 0.9}"
      ]
     },
     "execution_count": 101,
     "metadata": {},
     "output_type": "execute_result"
    }
   ],
   "source": [
    "gs.best_params_"
   ]
  },
  {
   "cell_type": "code",
   "execution_count": 49,
   "metadata": {},
   "outputs": [
    {
     "data": {
      "text/plain": [
       "(725, 6)"
      ]
     },
     "execution_count": 49,
     "metadata": {},
     "output_type": "execute_result"
    }
   ],
   "source": [
    "X.shape"
   ]
  },
  {
   "cell_type": "code",
   "execution_count": null,
   "metadata": {},
   "outputs": [],
   "source": []
  }
 ],
 "metadata": {
  "kernelspec": {
   "display_name": "Python 3",
   "language": "python",
   "name": "python3"
  },
  "language_info": {
   "codemirror_mode": {
    "name": "ipython",
    "version": 3
   },
   "file_extension": ".py",
   "mimetype": "text/x-python",
   "name": "python",
   "nbconvert_exporter": "python",
   "pygments_lexer": "ipython3",
   "version": "3.6.8"
  }
 },
 "nbformat": 4,
 "nbformat_minor": 2
}
