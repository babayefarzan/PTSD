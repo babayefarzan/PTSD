{
 "cells": [
  {
   "cell_type": "code",
   "execution_count": 1,
   "metadata": {},
   "outputs": [],
   "source": [
    "import numpy as np\n",
    "import pandas as pd\n",
    "from sklearn.utils import shuffle\n",
    "from sklearn.ensemble import RandomForestClassifier, GradientBoostingClassifier\n",
    "from sklearn.model_selection import train_test_split\n",
    "from sklearn.model_selection import cross_val_score, StratifiedKFold\n",
    "from sklearn.metrics import accuracy_score, f1_score,precision_score, recall_score, roc_auc_score\n",
    "from sklearn.decomposition import PCA\n",
    "from sklearn.utils import shuffle\n",
    "from sklearn.neural_network import MLPClassifier\n",
    "from sklearn.svm import SVC\n",
    "from sklearn.naive_bayes import GaussianNB\n",
    "from sklearn.tree import DecisionTreeClassifier\n",
    "from sklearn.mixture import GaussianMixture\n",
    "from sklearn.linear_model import LogisticRegression\n",
    "from imblearn.over_sampling import SMOTE\n",
    "from sklearn.impute import SimpleImputer"
   ]
  },
  {
   "cell_type": "code",
   "execution_count": 70,
   "metadata": {},
   "outputs": [],
   "source": [
    "def unison_shuffled_copies(a, b):\n",
    "    assert len(a) == len(b)\n",
    "    p = numpy.random.permutation(len(a))\n",
    "    return a[p], b[p]"
   ]
  },
  {
   "cell_type": "code",
   "execution_count": null,
   "metadata": {},
   "outputs": [],
   "source": [
    "class BaggingClassifier:\n",
    "    \n",
    "    def __init__(model):\n",
    "        self.model = model\n",
    "        self.voting_classifiers = []\n",
    "        \n",
    "    def fit(X, y):\n",
    "        \n",
    "        negative_count = len(y_train)-sum(y_train)\n",
    "        positive_count = sum(y_train)\n",
    "        rounds = negative_count// positive_count\n",
    "        \n",
    "        \n",
    "        left = negative_count - (positive_count * (negative_count// positive_count))\n",
    "        \n",
    "        X, y = self.unison_shuffled_copies(X, y)\n",
    "        \n",
    "        negative_index = 0\n",
    "\n",
    "        for i in range(int(rounds)):\n",
    "            if i < left:\n",
    "                delta = positive_count + 1\n",
    "                Xs = np.concatenate((negative.values[negative_index: negative_index+delta], positive))\n",
    "                negative_index += delta\n",
    "                Ys = np.concatenate((np.zeros(delta), np.ones(delta-1)))\n",
    "            else:\n",
    "                delta = positive_count + 1\n",
    "                Xs = np.concatenate((negative.values[negative_index: negative_index+delta], positive))\n",
    "                negative_index += delta\n",
    "                Ys = np.concatenate((np.zeros(delta), np.ones(delta-1)))\n",
    "            \n",
    "            Xs,Ys = self.unison_shuffled_copies(Xs,Ys)\n",
    "            self.voting_classifiers.append(self.model.fit(Xs,Ys))\n",
    "\n",
    "    def predict(X):\n",
    "        amount = 0\n",
    "        for model in self.voting_classifiers:\n",
    "            amount += model.predict(X)\n",
    "        "
   ]
  }
 ],
 "metadata": {
  "kernelspec": {
   "display_name": "Python 3",
   "language": "python",
   "name": "python3"
  },
  "language_info": {
   "codemirror_mode": {
    "name": "ipython",
    "version": 3
   },
   "file_extension": ".py",
   "mimetype": "text/x-python",
   "name": "python",
   "nbconvert_exporter": "python",
   "pygments_lexer": "ipython3",
   "version": "3.7.1"
  }
 },
 "nbformat": 4,
 "nbformat_minor": 2
}
