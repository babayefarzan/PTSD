{
 "cells": [
  {
   "cell_type": "code",
   "execution_count": 1,
   "metadata": {},
   "outputs": [
    {
     "name": "stderr",
     "output_type": "stream",
     "text": [
      "Using TensorFlow backend.\n"
     ]
    }
   ],
   "source": [
    "import numpy as np\n",
    "import pandas as pd\n",
    "from sklearn.utils import shuffle\n",
    "from sklearn.ensemble import RandomForestClassifier, GradientBoostingClassifier\n",
    "from sklearn.model_selection import train_test_split\n",
    "from sklearn.model_selection import cross_val_score, StratifiedKFold\n",
    "from sklearn.metrics import accuracy_score, f1_score,precision_score, recall_score, roc_auc_score\n",
    "from sklearn.decomposition import PCA\n",
    "from sklearn.utils import shuffle\n",
    "from sklearn.neural_network import MLPClassifier\n",
    "from sklearn.svm import SVC\n",
    "from sklearn.naive_bayes import GaussianNB\n",
    "from sklearn.tree import DecisionTreeClassifier\n",
    "from sklearn.mixture import GaussianMixture\n",
    "from sklearn.linear_model import LogisticRegression\n",
    "from imblearn.over_sampling import SMOTE\n",
    "from sklearn.impute import SimpleImputer\n",
    "import tensorflow.keras\n",
    "import keras.metrics\n",
    "from keras.layers import Dense, Dropout, Conv2D, MaxPooling2D\n",
    "from keras.models import Sequential\n",
    "from keras.callbacks import History \n",
    "from keras.utils import plot_model\n",
    "from keras.optimizers import SGD\n",
    "from sklearn.cluster import DBSCAN\n",
    "from sklearn.preprocessing import StandardScaler\n",
    "from sklearn.feature_selection import RFECV, RFE\n",
    "from tensorflow.keras.callbacks import EarlyStopping, ModelCheckpoint\n"
   ]
  },
  {
   "cell_type": "code",
   "execution_count": 2,
   "metadata": {},
   "outputs": [],
   "source": [
    "path = \"PTSD.xlsx\"\n",
    "df = pd.read_excel(path)\n",
    "df = df[~df[\"PCL_Strict3\"].isna()]\n"
   ]
  },
  {
   "cell_type": "code",
   "execution_count": 3,
   "metadata": {},
   "outputs": [],
   "source": [
    "features = [\"age\", \"highschool_diploma\",  \"dyslexia\", \"ADHD\", \"T1Acc1t\", \"T1Acc1n\", \"T1bias\", \"phq1\", \"lot1\", \"trait1\",\n",
    "               \"state1\", \"PCL1\",  \"PCL_Broad1\", \"PCL_Strict1\", \"cd_risc1\", \"active_coping1\", \"planning1\", \"positive_reframing1\",\n",
    "               \"acceptance1\", \"humor1\", \"religion1\", \"emotional_support1\", \"instrumental_support1\", \"self_distraction1\",\n",
    "            \"denial1\",\n",
    "               \"venting1\", \"substance_use1\", \"behavioral_disengagement1\", \"self_blame1\", \"trauma_history8_1\"]"
   ]
  },
  {
   "cell_type": "code",
   "execution_count": 4,
   "metadata": {},
   "outputs": [],
   "source": [
    "bad_features = [\"T1bias\", \"state1\", \"trait1\", \"phq1\", \"PCL1\",\n",
    "                \"denial1\", \"substance_use1\", \"self_blame1\", \"trauma_history8_1\"]\n",
    "numerical_features = [ \"T1Acc1t\", \"T1Acc1n\", \"T1bias\", \"state1\", \"trait1\", \"lot1\", \"phq1\",\n",
    "                      \"cd_risc1\", \"PCL1\", \"bad_features\", \"trauma_history8_1\"]\n",
    "categorical_features = [\"age\", \"highschool_diploma\",  \"dyslexia\", \"ADHD\", \"T1Acc1t\", \"T1Acc1n\", \"T1bias\", \"phq1\", \n",
    "                        \"lot1\", \"trait1\", \"state1\", \"PCL1\",  \"PCL_Broad1\", \"PCL_Strict1\", \"active_coping1\",\n",
    "                        \"planning1\", \"positive_reframing1\", \"acceptance1\", \"humor1\", \"religion1\", \n",
    "                        \"emotional_support1\",\"instrumental_support1\", \"self_distraction1\", \"denial1\", \n",
    "                        \"venting1\", \"substance_use1\", \"behavioral_disengagement1\", \"self_blame1\"]\n",
    "\n",
    "df['bad_features'] = (df > df.mean())[bad_features].sum(axis=1)\n",
    "\n",
    "imp = SimpleImputer(missing_values=np.nan, strategy='mean')\n",
    "df[numerical_features] = imp.fit_transform(df[numerical_features])\n",
    "\n",
    "imp = SimpleImputer(missing_values=np.nan, strategy='most_frequent')\n",
    "df[categorical_features] = imp.fit_transform(df[categorical_features])\n",
    "\n",
    "pca = PCA(n_components = 1)\n",
    "df[\"pcls\"] = pca.fit_transform(df[[\"PCL1\",  \"PCL_Broad1\", \"PCL_Strict1\"]])\n",
    "df.drop([\"PCL1\",  \"PCL_Broad1\", \"PCL_Strict1\"], axis=1, inplace=True)\n",
    "features.append(\"pcls\")\n",
    "features.remove(\"PCL1\")\n",
    "features.remove(\"PCL_Broad1\")\n",
    "features.remove(\"PCL_Strict1\")\n",
    "\n",
    "\n",
    "X = df[features]\n",
    "\n",
    "\n",
    "ss = StandardScaler()\n",
    "X = ss.fit_transform(X)\n",
    "\n",
    "\n",
    "Y = df[\"PCL_Strict3\"]"
   ]
  },
  {
   "cell_type": "code",
   "execution_count": 5,
   "metadata": {},
   "outputs": [],
   "source": [
    "X_train, X_test, y_train, y_test = train_test_split(X, Y, test_size = 0.1, random_state=271828, stratify=Y)\n",
    "X_train_2, X_test_2, y_train_2, y_test_2 = train_test_split(X_train, y_train, test_size = 0.1, random_state=271828, stratify=y_train)\n"
   ]
  },
  {
   "cell_type": "code",
   "execution_count": 21,
   "metadata": {
    "scrolled": false
   },
   "outputs": [
    {
     "name": "stderr",
     "output_type": "stream",
     "text": [
      "C:\\Anaconda\\lib\\site-packages\\sklearn\\metrics\\classification.py:1143: UndefinedMetricWarning: Precision is ill-defined and being set to 0.0 due to no predicted samples.\n",
      "  'precision', 'predicted', average, warn_for)\n"
     ]
    },
    {
     "name": "stdout",
     "output_type": "stream",
     "text": [
      "\n",
      "\n",
      "precision\n",
      " 0.0\n",
      "recall\n",
      " 0.0\n",
      "\n",
      "\n",
      "precision\n",
      " 0.10526315789473684\n",
      "recall\n",
      " 0.5714285714285714\n",
      "\n",
      "\n",
      "precision\n",
      " 0.03225806451612903\n",
      "recall\n",
      " 0.14285714285714285\n"
     ]
    },
    {
     "name": "stderr",
     "output_type": "stream",
     "text": [
      "C:\\Anaconda\\lib\\site-packages\\sklearn\\metrics\\classification.py:1143: UndefinedMetricWarning: Precision is ill-defined and being set to 0.0 due to no predicted samples.\n",
      "  'precision', 'predicted', average, warn_for)\n"
     ]
    },
    {
     "name": "stdout",
     "output_type": "stream",
     "text": [
      "\n",
      "\n",
      "precision\n",
      " 0.0\n",
      "recall\n",
      " 0.0\n",
      "\n",
      "\n",
      "precision\n",
      " 0.07407407407407407\n",
      "recall\n",
      " 0.2857142857142857\n",
      "\n",
      "\n",
      "mean precision 0.04231905929698799\n"
     ]
    }
   ],
   "source": [
    "kfold = StratifiedKFold(n_splits=5, shuffle=True)\n",
    "cvscores = []\n",
    "y_train_2 = np.array(y_train_2)\n",
    "X_train_2 = np.array(X_train_2)\n",
    "\n",
    "#eval\n",
    "pres=[]\n",
    "for train, test in kfold.split(X_train_2, y_train_2):\n",
    "\n",
    "    rfe =  RFE(RandomForestClassifier(n_estimators=100), 20).fit(X_train_2[train], y_train_2[train])\n",
    "\n",
    "    X_train_rfe = rfe.transform(X_train_2[train])\n",
    "    X_test_rfe = rfe.transform(X_train_2[test])\n",
    "    \n",
    "    sm = SMOTE(random_state=27)\n",
    "    X_train_res, y_train_res = sm.fit_sample(X_train_rfe, y_train_2[train].ravel())\n",
    "\n",
    "    # create model\n",
    "    n_cols = X_train_res.shape[1]\n",
    "    model = Sequential()\n",
    "\n",
    "\n",
    "    model.add(Dense(2, activation='elu', input_dim = n_cols))\n",
    "    model.add(Dropout(0.5))\n",
    "\n",
    "    model.add(Dense(2, activation='elu'))\n",
    "    model.add(Dropout(0.5))\n",
    "    \n",
    "    model.add(Dense(2, activation='elu'))\n",
    "    model.add(Dropout(0.5))\n",
    "\n",
    "    model.add(Dense(1, activation='sigmoid'))\n",
    "\n",
    "    model.compile(optimizer='adam', loss='binary_crossentropy')\n",
    "\n",
    "\n",
    "    # Fit the model\n",
    "    callbacks = [EarlyStopping(monitor='val_loss', patience=5)]\n",
    "        \n",
    "        # Fit the model\n",
    "    model.fit(X_train_res, y_train_res, epochs = 500, verbose=0, \n",
    "                  validation_split = .1, class_weight = {0:7, 1:1}, callbacks=callbacks)\n",
    "    \n",
    "    # evaluate the model                    \n",
    "    y_pred =  model.predict(X_test_rfe)\n",
    "    y_pred = y_pred > 0.5\n",
    "\n",
    "    s = precision_score(y_train_2[test], y_pred)\n",
    "    print(\"\\n\\nprecision\\n\", s)\n",
    "    pres.append(s)\n",
    "    print(\"recall\\n\", recall_score(y_train_2[test], y_pred))\n",
    "print(\"\\n\\nmean precision\", sum(pres)/len(pres))"
   ]
  },
  {
   "cell_type": "code",
   "execution_count": null,
   "metadata": {},
   "outputs": [],
   "source": [
    "\n",
    "rfe =  RFE(RandomForestClassifier(n_estimators=100), 5).fit(X_train_2, y_train_2)\n",
    "\n",
    "X_train_rfe = rfe.transform(X_train_2)\n",
    "X_test_rfe = rfe.transform(X_test_2)\n",
    "    \n",
    "sm = SMOTE(random_state=27)\n",
    "X_train_res, y_train_res = sm.fit_sample(X_train_rfe, y_train_2.ravel())\n",
    "\n",
    "# create model\n",
    "n_cols = X_train_res.shape[1]\n",
    "model = Sequential()\n",
    "    \n",
    "model.add(Dense(7, activation='elu', input_dim = n_cols))\n",
    "model.add(Dropout(0.5))\n",
    "\n",
    "model.add(Dense(5, activation='elu'))\n",
    "model.add(Dropout(0.5))\n",
    "\n",
    "model.add(Dense(3, activation='elu'))\n",
    "model.add(Dropout(0.5))\n",
    "\n",
    "model.add(Dense(1, activation='sigmoid'))\n",
    "\n",
    "model.compile(optimizer='adam', loss='binary_crossentropy')\n",
    "\n",
    "\n",
    "# Fit the model\n",
    "model.fit(X_train_res, y_train_res, epochs = 250, verbose=0, class_weight = {0:1, 1:1.7})\n",
    "    \n",
    "# evaluate the model                    \n",
    "y_pred =  model.predict(X_test_rfe)\n",
    "y_pred = y_pred > 0.5\n",
    "\n",
    "s = precision_score(y_pred,y_test_2)\n",
    "print(\"\\n\\nprecision\\n\", s)\n",
    "print(\"recall\\n\", recall_score(y_pred,y_test_2))\n"
   ]
  },
  {
   "cell_type": "code",
   "execution_count": 22,
   "metadata": {},
   "outputs": [
    {
     "name": "stdout",
     "output_type": "stream",
     "text": [
      "\n",
      "\n",
      "precision\n",
      " 1.0\n",
      "recall\n",
      " 0.1111111111111111\n"
     ]
    }
   ],
   "source": [
    "\n",
    "rfe =  RFE(RandomForestClassifier(n_estimators=100), 5).fit(X_train, y_train)\n",
    "\n",
    "X_train_rfe = rfe.transform(X_train)\n",
    "X_test_rfe = rfe.transform(X_test)\n",
    "    \n",
    "sm = SMOTE(random_state=27)\n",
    "X_train_res, y_train_res = sm.fit_sample(X_train_rfe, y_train.ravel())\n",
    "\n",
    "# create model\n",
    "n_cols = X_train_res.shape[1]\n",
    "model = Sequential()\n",
    "    \n",
    "model.add(Dense(7, activation='elu', input_dim = n_cols))\n",
    "model.add(Dropout(0.5))\n",
    "\n",
    "model.add(Dense(5, activation='elu'))\n",
    "model.add(Dropout(0.5))\n",
    "\n",
    "model.add(Dense(3, activation='elu'))\n",
    "model.add(Dropout(0.5))\n",
    "\n",
    "model.add(Dense(1, activation='sigmoid'))\n",
    "\n",
    "model.compile(optimizer='adam', loss='binary_crossentropy')\n",
    "\n",
    "\n",
    "# Fit the model\n",
    "model.fit(X_train_res, y_train_res, epochs = 250, verbose=0, class_weight = {0:1, 1:1.7})\n",
    "    \n",
    "# evaluate the model                    \n",
    "y_pred =  model.predict(X_test_rfe)\n",
    "y_pred = y_pred > 0.5\n",
    "\n",
    "s = precision_score(y_pred,y_test)\n",
    "print(\"\\n\\nprecision\\n\", s)\n",
    "print(\"recall\\n\", recall_score(y_pred,y_test))\n"
   ]
  },
  {
   "cell_type": "code",
   "execution_count": null,
   "metadata": {},
   "outputs": [],
   "source": []
  },
  {
   "cell_type": "code",
   "execution_count": null,
   "metadata": {},
   "outputs": [],
   "source": []
  }
 ],
 "metadata": {
  "kernelspec": {
   "display_name": "Python 3",
   "language": "python",
   "name": "python3"
  },
  "language_info": {
   "codemirror_mode": {
    "name": "ipython",
    "version": 3
   },
   "file_extension": ".py",
   "mimetype": "text/x-python",
   "name": "python",
   "nbconvert_exporter": "python",
   "pygments_lexer": "ipython3",
   "version": "3.6.8"
  }
 },
 "nbformat": 4,
 "nbformat_minor": 2
}
