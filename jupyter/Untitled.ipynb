{
 "cells": [
  {
   "cell_type": "code",
   "execution_count": 5,
   "metadata": {},
   "outputs": [
    {
     "name": "stdout",
     "output_type": "stream",
     "text": [
      "{'err': 'An error occurred processing this request. Please check your inputs and try again.'}\n"
     ]
    }
   ],
   "source": [
    "\n",
    "import requests\n",
    "r = requests.post(\n",
    "    \"https://api.deepai.org/api/summarization\",\n",
    "    files={\n",
    "        'text': open('beast.txt', 'rb'),\n",
    "    },\n",
    "    headers={'api-key': '44c4d909-6277-4151-ae57-c05ec2e7e82c'}\n",
    ")\n",
    "print(r.json())"
   ]
  },
  {
   "cell_type": "code",
   "execution_count": null,
   "metadata": {},
   "outputs": [],
   "source": []
  }
 ],
 "metadata": {
  "kernelspec": {
   "display_name": "Python 3",
   "language": "python",
   "name": "python3"
  }
 },
 "nbformat": 4,
 "nbformat_minor": 2
}
