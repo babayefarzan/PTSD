{
 "cells": [
  {
   "cell_type": "code",
   "execution_count": 280,
   "metadata": {},
   "outputs": [],
   "source": [
    "import numpy as np\n",
    "import pandas as pd\n",
    "from sklearn.utils import shuffle\n",
    "from sklearn.ensemble import RandomForestClassifier, GradientBoostingClassifier\n",
    "from sklearn.model_selection import train_test_split\n",
    "from sklearn.model_selection import cross_val_score, StratifiedKFold, KFold\n",
    "from sklearn.metrics import accuracy_score, f1_score,precision_score, recall_score, roc_auc_score, mean_absolute_error\n",
    "from sklearn.decomposition import PCA\n",
    "from sklearn.utils import shuffle\n",
    "from sklearn.neural_network import MLPClassifier\n",
    "from sklearn.svm import SVC\n",
    "from keras.callbacks import EarlyStopping, ModelCheckpoint\n",
    "\n",
    "from sklearn.naive_bayes import GaussianNB\n",
    "from sklearn.tree import DecisionTreeClassifier\n",
    "from sklearn.mixture import GaussianMixture\n",
    "from sklearn.linear_model import LogisticRegression\n",
    "from imblearn.over_sampling import SMOTE\n",
    "from sklearn.impute import SimpleImputer\n",
    "import tensorflow.keras\n",
    "import keras.metrics\n",
    "from imblearn.under_sampling import RandomUnderSampler\n",
    "\n",
    "from keras.layers import Dense, Dropout, Conv2D, MaxPooling2D\n",
    "from keras.models import Sequential\n",
    "from keras.callbacks import History \n",
    "from keras.utils import plot_model\n",
    "from keras.optimizers import SGD\n",
    "from sklearn.preprocessing import StandardScaler"
   ]
  },
  {
   "cell_type": "code",
   "execution_count": null,
   "metadata": {},
   "outputs": [],
   "source": [
    "path = \"PTSD.xlsx\"\n",
    "df = pd.read_excel(path)\n",
    "df = df[~df[\"d_ptsd\"].isna()]"
   ]
  },
  {
   "cell_type": "code",
   "execution_count": null,
   "metadata": {},
   "outputs": [],
   "source": []
  },
  {
   "cell_type": "code",
   "execution_count": null,
   "metadata": {},
   "outputs": [],
   "source": [
    "features =  [ \"age\", \"highschool_diploma\", \"Hebrew\", \"dyslexia\", \"ADHD\", \"T1ETBE\", \"T1Acc1t\",\n",
    "                         \"T1Acc1n\", \"T1bias\", \"T2Acc1t\", \"T2Acc1n\", \"T2bias\", \"state1\", \"state2\", \"trait1\",\n",
    "                         \"trait2\", \"lot1\", \"lot2\", \"phq1\", \"phq2\", \"PCL1\", \"PCL2\", \"cd_risc1\", \"ptgi2\",\n",
    "                         \"active_coping1\", \"planning1\", \"positive_reframing1\", \"acceptance1\", \"humor1\",\n",
    "                         \"religion1\", \"emotional_support1\", \"instrumental_support1\", \"self_distraction1\",\n",
    "                         \"denial1\", \"venting1\", \"substance_use1\", \"behavioral_disengagement1\", \"self_blame1\",\n",
    "                         \"active_coping2\", \"planning2\", \"positive_reframing2\", \"acceptance2\", \"humor2\",\n",
    "                         \"religion2\", \"emotional_support2\", \"instrumental_support2\",\"self_distraction2\",\n",
    "                         \"denial2\", \"venting2\", \"substance_use2\", \"behavioral_disengagement2\", \"self_blame2\",\n",
    "                         \"trauma_history8_1\", \"military_exposure_unit\", \"HML_5HTT\", \"HL_MAOA\", \"HML_NPY\",\n",
    "                         \"COMT_Hap1_recode\", \"COMT_Hap2_recode\", \"COMT_Hap1_LvsMH\", \"HML_FKBP5\", \"Ashken_scale\",\n",
    "                         \"Sephar_scale\", \"Unknown\"]"
   ]
  },
  {
   "cell_type": "code",
   "execution_count": null,
   "metadata": {},
   "outputs": [],
   "source": [
    "bad_features = [\"T1ETBE\", \"T1bias\", \"state1\", \"state2\", \"trait1\", \"trait2\", \"phq1\", \"phq2\", \"PCL1\", \"PCL2\",\n",
    "                \"denial1\", \"substance_use1\", \"self_blame1\", \"denial2\", \"substance_use2\",\"self_blame2\",\n",
    "                         \"trauma_history8_1\", \"military_exposure_unit\", 'trauma6t2', 'trauma8t2',\n",
    "                        't1bias_1_zero', 'state1_zero', 'trait1_zero', 'PHQ1_zero', 'PCL1_zero', 'depression_clinical2',\n",
    "                        'ptsd1_clini', 'emotional_cop1n']\n",
    "numerical_features = [ \"T1ETBE\", \"T1Acc1t\", \"T1Acc1n\", \"T1bias\", \"T2Acc1t\",\"T2Acc1n\", \"T2bias\", \"state1\", \"state2\",\n",
    "                        \"trait1\", \"trait2\", \"lot1\", \"lot2\", \"phq1\", \"phq2\", \"cd_risc1\", \"PCL1\", \"PCL2\"]\n",
    "categorical_features = [ \"age\", \"highschool_diploma\", \"Hebrew\", \"dyslexia\", \"ADHD\",   \"ptgi2\",\n",
    "                    \"active_coping1\", \"planning1\", \"positive_reframing1\", \"acceptance1\", \"humor1\",\n",
    "                    \"religion1\", \"emotional_support1\", \"instrumental_support1\", \"self_distraction1\",\n",
    "                    \"denial1\", \"venting1\", \"substance_use1\", \"behavioral_disengagement1\", \"self_blame1\",\n",
    "                    \"active_coping2\", \"planning2\", \"positive_reframing2\", \"acceptance2\", \"humor2\",\n",
    "                    \"religion2\", \"emotional_support2\", \"instrumental_support2\", \"self_distraction2\",\n",
    "                    \"denial2\", \"venting2\", \"substance_use2\", \"behavioral_disengagement2\", \"self_blame2\",\n",
    "                    \"trauma_history8_1\", \"military_exposure_unit\", \"HML_5HTT\", \"HL_MAOA\", \"HML_NPY\",\n",
    "                    \"COMT_Hap1_recode\", \"COMT_Hap2_recode\", \"COMT_Hap1_LvsMH\", \"HML_FKBP5\", \"Ashken_scale\",\n",
    "                    \"Sephar_scale\", \"Unknown\"]"
   ]
  },
  {
   "cell_type": "code",
   "execution_count": null,
   "metadata": {},
   "outputs": [],
   "source": [
    "\n",
    "\n",
    "# for i, feature in enumerate(features):\n",
    "#     for interation in features[i::]:\n",
    "#         X[f\"interaction_{feature}_{interation}\"] = X[feature]"
   ]
  },
  {
   "cell_type": "code",
   "execution_count": null,
   "metadata": {},
   "outputs": [],
   "source": [
    "df['bad_features'] = (df > df.mean())[bad_features].sum(axis=1)\n",
    "\n",
    "imp = SimpleImputer(missing_values=np.nan, strategy='mean')\n",
    "df[numerical_features] = imp.fit_transform(df[numerical_features])\n",
    "\n",
    "imp = SimpleImputer(missing_values=np.nan, strategy='most_frequent')\n",
    "df[categorical_features] = imp.fit_transform(df[categorical_features])\n",
    "\n",
    "X = df[features]\n",
    "\n",
    "Y = df[\"d_ptsd\"]"
   ]
  },
  {
   "cell_type": "code",
   "execution_count": null,
   "metadata": {},
   "outputs": [],
   "source": [
    "X[\"interaction_1\"] = X[\"T1Acc1t\"] * X[\"T2Acc1n\"] * X[\"military_exposure_unit\"]\n",
    "X[\"interaction_2\"] = X[\"T1Acc1n\"] * X[\"T2Acc1t\"] * X[\"military_exposure_unit\"]\n",
    "X[\"interaction_3\"] = X[\"highschool_diploma\"] * X[\"military_exposure_unit\"] * X['PCL1']\n",
    "X[\"interaction_4\"] = X[\"T1ETBE\"] * X[\"military_exposure_unit\"] * X['HML_5HTT']"
   ]
  },
  {
   "cell_type": "code",
   "execution_count": null,
   "metadata": {},
   "outputs": [],
   "source": [
    "ss = StandardScaler()\n",
    "X = ss.fit_transform(X)"
   ]
  },
  {
   "cell_type": "code",
   "execution_count": null,
   "metadata": {},
   "outputs": [],
   "source": [
    "X_train, X_test, y_train, y_test = train_test_split(X, Y, test_size = 0.1, random_state=271828)\n",
    "X_train_2, X_test_2, y_train_2, y_test_2 = train_test_split(X_train, y_train, test_size = 0.1, random_state=271828)\n",
    "#X_train_3, X_test_3, y_train_3, y_test_3 = train_test_split(X_train_2, y_train_2, test_size = 0.1, random_state=271828, stratify=y_train_2)"
   ]
  },
  {
   "cell_type": "code",
   "execution_count": null,
   "metadata": {},
   "outputs": [],
   "source": [
    "def create_data(X_train, y_train):\n",
    "    X_train_3 = X_train[y_train==1]\n",
    "    y_train_3 = y_train[y_train==1]\n",
    "    X_train_4 = X_train[y_train==0][:10:]\n",
    "    y_train_4 = y_train[y_train==0][:10:]\n",
    "    X_train_5 = np.vstack((X_train_4, X_train_3))\n",
    "    y_train_5 =  np.hstack((y_train_4, y_train_3))\n",
    "    sm = SMOTE(random_state=27)\n",
    "    X_train_6, y_train_6 = sm.fit_sample(X_train_5, y_train_5.ravel())\n",
    "    X_train_6 = X_train_6[y_train_6==0]\n",
    "    y_train_6 = y_train_6[y_train_6==0]\n",
    "    return X_train_6, y_train_6"
   ]
  },
  {
   "cell_type": "code",
   "execution_count": null,
   "metadata": {},
   "outputs": [],
   "source": [
    "preds = []\n",
    "trues= []"
   ]
  },
  {
   "cell_type": "code",
   "execution_count": null,
   "metadata": {
    "scrolled": false
   },
   "outputs": [],
   "source": [
    "kfold = KFold(n_splits=7, shuffle=True)\n",
    "cvscores = []\n",
    "y_train_2 = np.array(y_train_2)\n",
    "X_train_2 = np.array(X_train_2)\n",
    "\n",
    "for num_layers in [3]:\n",
    "    for first_layer in [75]:\n",
    "        for loops in [20]:\n",
    "            for each_layer in [15]:\n",
    "                num_layers = num_layers\n",
    "                first_layer = first_layer\n",
    "                each_layer = each_layer\n",
    "                num_smote = 1\n",
    "                loops = loops\n",
    "                train_scores_f = []\n",
    "                train_scores_p = []\n",
    "                train_scores_r = []\n",
    "                        \n",
    "                scores_f = []\n",
    "                scores_p = []\n",
    "                scores_r = []\n",
    "                \n",
    "                for train, test in kfold.split(X_train_2, y_train_2):\n",
    "                    print(\"num_layers\", num_layers, \"\\nfirst_layer\", first_layer, \n",
    "                          \"\\neach_layer\", each_layer, \"\\nnum_smote\", num_smote, \"\\nloops\", loops)\n",
    "                    X_train_res = X_train_2[train]\n",
    "                    y_train_res = y_train_2[train]\n",
    "\n",
    "                  # create model\n",
    "                    n_cols = X_train_res.shape[1]\n",
    "                    model = Sequential()\n",
    "                    model.add(Dense(first_layer, activation='elu', input_dim = n_cols))\n",
    "                    model.add(Dropout(0.5))\n",
    "\n",
    "                    for i in range(num_layers):\n",
    "                        model.add(Dense(each_layer, activation='elu'))\n",
    "                        model.add(Dropout(0.5))\n",
    "\n",
    "                    model.add(Dense(1, activation='sigmoid'))\n",
    "\n",
    "                    model.compile(optimizer='adam', \n",
    "                                  loss='mean_squared_error')\n",
    "\n",
    "\n",
    "                    # Fit the model\n",
    "                    #callbacks = [EarlyStopping(monitor='val_loss', patience=1)]\n",
    "                    model.fit(X_train_res, y_train_res, epochs = 130, validation_split = .1, verbose=0, callbacks=callbacks)\n",
    "                    # evaluate the model\n",
    "                    y_pred =  model.predict(X_train_2[test])\n",
    "                    y_train_pred =  model.predict(X_train_2[train])\n",
    "                    preds.extend(y_pred)\n",
    "                    trues.extend(y_train_2[test])\n",
    "                    y_pred = y_pred\n",
    "                    s_f = mean_absolute_error(y_train_2[test], y_pred)\n",
    "                    print(\"\\tscores f1\", (s_f))\n",
    "                    scores_f.append(s_f)\n",
    "\n",
    "                    y_train_pred = (y_train_pred)\n",
    "                    train_s_f = mean_absolute_error(y_train_2[train], y_train_pred)\n",
    "                    print(\"\\tscores f1 train\", (train_s_f))\n",
    " \n",
    "                    train_scores_f.append(train_s_f)\n",
    "\n",
    "                print(\"mean scores f1\", np.mean(scores_f))\n",
    "\n",
    "                        \n",
    "                print(\"mean scores f1 train\", np.mean(train_scores_f))\n"
   ]
  },
  {
   "cell_type": "code",
   "execution_count": null,
   "metadata": {},
   "outputs": [],
   "source": [
    "preds = np.array(preds)\n",
    "trues = np.array(trues)"
   ]
  },
  {
   "cell_type": "code",
   "execution_count": null,
   "metadata": {},
   "outputs": [],
   "source": [
    "num_layers = 3\n",
    "first_layer = 75\n",
    "each_layer = 15\n",
    "\n",
    "# create model\n",
    "n_cols = X_train_res.shape[1]\n",
    "model = Sequential()\n",
    "model.add(Dense(first_layer, activation='elu', input_dim = n_cols))\n",
    "model.add(Dropout(0.5))\n",
    "for i in range(num_layers):\n",
    "    model.add(Dense(each_layer, activation='elu'))\n",
    "    model.add(Dropout(0.5))\n",
    "\n",
    "model.add(Dense(1, activation='sigmoid'))\n",
    "\n",
    "model.compile(optimizer='adam', \n",
    "                                  loss='mean_squared_error')\n",
    "\n",
    "\n",
    "                    # Fit the model\n",
    "callbacks = [EarlyStopping(monitor='val_loss', patience=2)]\n",
    "model.fit(X_train_2, y_train_2, epochs = 350, validation_split = .1, verbose=0, callbacks=callbacks)\n",
    "                    # evaluate the model\n",
    "y_pred =  model.predict(X_test_2)\n",
    "y_train_pred =  model.predict(X_train_2)\n",
    "#preds.extend(y_pred)\n",
    "#trues.extend(y_train_2[test])\n",
    "s_f = mean_absolute_error(y_test_2, y_pred)\n",
    "print(\"\\tscores f1\", (s_f))\n",
    "                    \n",
    "\n",
    "train_s_f = mean_absolute_error(y_train_2, y_train_pred)\n",
    "print(\"\\tscores f1 train\", (train_s_f))\n",
    "    "
   ]
  },
  {
   "cell_type": "code",
   "execution_count": null,
   "metadata": {},
   "outputs": [],
   "source": [
    "df = pd.read_excel(path)\n"
   ]
  },
  {
   "cell_type": "code",
   "execution_count": null,
   "metadata": {},
   "outputs": [],
   "source": [
    "num_layers = 3\n",
    "first_layer = 75\n",
    "each_layer = 15\n",
    "\n",
    "# create model\n",
    "n_cols = X_train_res.shape[1]\n",
    "model = Sequential()\n",
    "model.add(Dense(first_layer, activation='elu', input_dim = n_cols))\n",
    "model.add(Dropout(0.5))\n",
    "for i in range(num_layers):\n",
    "    model.add(Dense(each_layer, activation='elu'))\n",
    "    model.add(Dropout(0.5))\n",
    "\n",
    "model.add(Dense(1, activation='sigmoid'))\n",
    "\n",
    "model.compile(optimizer='adam', \n",
    "                                  loss='mean_squared_error')\n",
    "train_here = df.iloc[list(y_train_2.index)][\"PCL3\"]\n",
    "test_here =  df.iloc[list(y_test_2.index)][\"PCL3\"]\n",
    "                    # Fit the model\n",
    "callbacks = [EarlyStopping(monitor='val_loss', patience=2)]\n",
    "model.fit(X_train_2, train_here, epochs = 350, validation_split = .1, verbose=0, callbacks=callbacks)\n",
    "                    # evaluate the model\n",
    "y_pred =  model.predict(test_here)\n",
    "y_train_pred =  model.predict(X_train_2)\n",
    "#preds.extend(y_pred)\n",
    "#trues.extend(y_train_2[test])\n",
    "s_f = mean_absolute_error(y_test_2, y_pred)\n",
    "print(\"\\tscores f1\", (s_f))\n",
    "                    \n",
    "\n",
    "train_s_f = mean_absolute_error(y_train_2, y_train_pred)\n",
    "print(\"\\tscores f1 train\", (train_s_f))\n",
    "    "
   ]
  },
  {
   "cell_type": "code",
   "execution_count": 274,
   "metadata": {},
   "outputs": [],
   "source": [
    "\n",
    "df = pd.read_excel(path)"
   ]
  },
  {
   "cell_type": "code",
   "execution_count": 275,
   "metadata": {},
   "outputs": [
    {
     "data": {
      "text/plain": [
       "7.483467668831349"
      ]
     },
     "execution_count": 275,
     "metadata": {},
     "output_type": "execute_result"
    }
   ],
   "source": [
    "mean_absolute_error(y_pred.reshape(-1)+df.iloc[list(y_test_2.index)][\"PCL2\"], df.iloc[list(y_test_2.index)][\"PCL3\"])"
   ]
  },
  {
   "cell_type": "code",
   "execution_count": 276,
   "metadata": {},
   "outputs": [],
   "source": [
    "a = y_pred.reshape(-1)+df.iloc[list(y_test_2.index)][\"PCL2\"] > 50"
   ]
  },
  {
   "cell_type": "code",
   "execution_count": 277,
   "metadata": {},
   "outputs": [],
   "source": [
    "b = df.iloc[list(y_test_2.index)][\"PCL3\"] > 50"
   ]
  },
  {
   "cell_type": "code",
   "execution_count": 278,
   "metadata": {},
   "outputs": [
    {
     "data": {
      "text/plain": [
       "0.16666666666666666"
      ]
     },
     "execution_count": 278,
     "metadata": {},
     "output_type": "execute_result"
    }
   ],
   "source": [
    "precision_score(b, a)"
   ]
  },
  {
   "cell_type": "code",
   "execution_count": 272,
   "metadata": {},
   "outputs": [
    {
     "data": {
      "text/plain": [
       "2"
      ]
     },
     "execution_count": 272,
     "metadata": {},
     "output_type": "execute_result"
    }
   ],
   "source": [
    "sum(a)"
   ]
  },
  {
   "cell_type": "code",
   "execution_count": 170,
   "metadata": {},
   "outputs": [
    {
     "data": {
      "text/plain": [
       "0        True\n",
       "1        True\n",
       "2        True\n",
       "3        True\n",
       "4        True\n",
       "6        True\n",
       "7        True\n",
       "8        True\n",
       "9        True\n",
       "10       True\n",
       "11       True\n",
       "12       True\n",
       "13       True\n",
       "14       True\n",
       "16       True\n",
       "19       True\n",
       "20       True\n",
       "21       True\n",
       "23       True\n",
       "25       True\n",
       "28       True\n",
       "29       True\n",
       "31      False\n",
       "33       True\n",
       "34       True\n",
       "35       True\n",
       "36       True\n",
       "37       True\n",
       "38       True\n",
       "39       True\n",
       "        ...  \n",
       "1048     True\n",
       "1050     True\n",
       "1053     True\n",
       "1054     True\n",
       "1059     True\n",
       "1060     True\n",
       "1062     True\n",
       "1065     True\n",
       "1066     True\n",
       "1067     True\n",
       "1068     True\n",
       "1069     True\n",
       "1071     True\n",
       "1072     True\n",
       "1073     True\n",
       "1075     True\n",
       "1076     True\n",
       "1078     True\n",
       "1080     True\n",
       "1082     True\n",
       "1083     True\n",
       "1084     True\n",
       "1085     True\n",
       "1088     True\n",
       "1097     True\n",
       "1098     True\n",
       "1099     True\n",
       "1100     True\n",
       "1101     True\n",
       "1102     True\n",
       "Length: 661, dtype: bool"
      ]
     },
     "execution_count": 170,
     "metadata": {},
     "output_type": "execute_result"
    }
   ],
   "source": [
    "df[\"PCL3\"] == df[\"d_ptsd\"] + df[\"PCL2\"]"
   ]
  },
  {
   "cell_type": "code",
   "execution_count": null,
   "metadata": {},
   "outputs": [],
   "source": []
  }
 ],
 "metadata": {
  "kernelspec": {
   "display_name": "Python 3",
   "language": "python",
   "name": "python3"
  },
  "language_info": {
   "codemirror_mode": {
    "name": "ipython",
    "version": 3
   },
   "file_extension": ".py",
   "mimetype": "text/x-python",
   "name": "python",
   "nbconvert_exporter": "python",
   "pygments_lexer": "ipython3",
   "version": "3.6.4"
  }
 },
 "nbformat": 4,
 "nbformat_minor": 2
}
