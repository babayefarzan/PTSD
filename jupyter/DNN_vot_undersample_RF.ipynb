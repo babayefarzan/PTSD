{
 "cells": [
  {
   "cell_type": "code",
   "execution_count": 29,
   "metadata": {},
   "outputs": [],
   "source": [
    "import numpy as np\n",
    "import pandas as pd\n",
    "from sklearn.utils import shuffle\n",
    "from sklearn.ensemble import RandomForestClassifier, GradientBoostingClassifier\n",
    "from sklearn.model_selection import train_test_split\n",
    "from sklearn.model_selection import cross_val_score, StratifiedKFold\n",
    "from sklearn.metrics import accuracy_score, f1_score,precision_score, recall_score, roc_auc_score\n",
    "from sklearn.decomposition import PCA\n",
    "from sklearn.utils import shuffle\n",
    "from sklearn.neural_network import MLPClassifier\n",
    "from sklearn.svm import SVC\n",
    "from sklearn.naive_bayes import GaussianNB\n",
    "from sklearn.tree import DecisionTreeClassifier\n",
    "from sklearn.mixture import GaussianMixture\n",
    "from sklearn.linear_model import LogisticRegression\n",
    "from imblearn.over_sampling import SMOTE\n",
    "from sklearn.impute import SimpleImputer\n",
    "import tensorflow.keras\n",
    "import keras.metrics\n",
    "from keras.layers import Dense, Dropout, Conv2D, MaxPooling2D, Input\n",
    "from keras.models import Sequential\n",
    "from keras.callbacks import History \n",
    "from keras.utils import plot_model\n",
    "from keras.optimizers import SGD\n",
    "from keras.models import Model\n",
    "from keras import regularizers\n",
    "from imblearn.under_sampling import RandomUnderSampler\n",
    "from sklearn.semi_supervised import LabelSpreading, LabelPropagation\n",
    "import featuretools as ft\n",
    "from sklearn.preprocessing import StandardScaler\n",
    "from keras.callbacks import EarlyStopping, ModelCheckpoint\n"
   ]
  },
  {
   "cell_type": "code",
   "execution_count": 30,
   "metadata": {},
   "outputs": [],
   "source": [
    "path = \"PTSD.xlsx\"\n",
    "df = pd.read_excel(path)\n",
    "df = df[~df[\"PCL_Strict3\"].isna()]"
   ]
  },
  {
   "cell_type": "code",
   "execution_count": 31,
   "metadata": {},
   "outputs": [],
   "source": [
    "features = [\"ID\" ,\"age\", \"highschool_diploma\", \"Hebrew\", \"dyslexia\", \"ADHD\", \"T1ETBE\", \"T1Acc1t\",\n",
    "                         \"T1Acc1n\", \"T1bias\", \"T2Acc1t\", \"T2Acc1n\", \"T2bias\", \"state1\", \"state2\", \"trait1\",\n",
    "                         \"trait2\", \"lot1\", \"lot2\", \"phq1\", \"phq2\", \"PCL1\", \"PCL2\", \"cd_risc1\", \"ptgi2\",\n",
    "                         \"active_coping1\", \"planning1\", \"positive_reframing1\", \"acceptance1\", \"humor1\",\n",
    "                         \"religion1\", \"emotional_support1\", \"instrumental_support1\", \"self_distraction1\",\n",
    "                         \"denial1\", \"venting1\", \"substance_use1\", \"behavioral_disengagement1\", \"self_blame1\",\n",
    "                         \"active_coping2\", \"planning2\", \"positive_reframing2\", \"acceptance2\", \"humor2\",\n",
    "                         \"religion2\", \"emotional_support2\", \"instrumental_support2\",\"self_distraction2\",\n",
    "                         \"denial2\", \"venting2\", \"substance_use2\", \"behavioral_disengagement2\", \"self_blame2\",\n",
    "                         \"trauma_history8_1\", \"military_exposure_unit\", \"HML_5HTT\", \"HL_MAOA\", \"HML_NPY\",\n",
    "                         \"COMT_Hap1_recode\", \"COMT_Hap2_recode\", \"COMT_Hap1_LvsMH\", \"HML_FKBP5\", \"Ashken_scale\",\n",
    "                         \"Sephar_scale\", \"Unknown\", 'terror_p1', 'terror_i1', 'mva_p1', 'mva_i1',                   \n",
    "                         'violent1', 'sexual1', 'rockets_p1', 'rockets_i1', 'trauma_history6_1',\n",
    "                        'terror_p2','terror_i2','mva_p2', 'mva_i2', 'violent2', 'sexual2', 'rockets_p2',\n",
    "                        'rockets_i2', 'trauma6t2', 'trauma8t2', 'military_exp18_1','military_exp18_t2',\n",
    "                        'commanders18','commanders20', 'commanders22', 't1bias_1_zero', 'state1_zero',\n",
    "                        'trait1_zero', 'PHQ1_zero', 'PCL1_zero', 'depression_clinical2', 'avoid_bias',\n",
    "                        'ptsd1_clini', 'avoidance_cop', 'clinical_depression15', 'avoidance_compa',\n",
    "                        'resilience_compa', 'combat_compa', 'emotional_cop1n', 'avoidance_cop2']"
   ]
  },
  {
   "cell_type": "code",
   "execution_count": 32,
   "metadata": {},
   "outputs": [],
   "source": [
    "numerical_features = [ \"T1ETBE\", \"T1Acc1t\", \"T1Acc1n\", \"T1bias\", \"T2Acc1t\",\"T2Acc1n\", \"T2bias\", \"state1\", \"state2\",\n",
    "                        \"trait1\", \"trait2\", \"lot1\", \"lot2\", \"phq1\", \"phq2\", \"cd_risc1\", \"PCL1\", \"PCL2\"]\n",
    "categorical_features = [ \"age\", \"highschool_diploma\", \"Hebrew\", \"dyslexia\", \"ADHD\",   \"ptgi2\",\n",
    "                    \"active_coping1\", \"planning1\", \"positive_reframing1\", \"acceptance1\", \"humor1\",\n",
    "                    \"religion1\", \"emotional_support1\", \"instrumental_support1\", \"self_distraction1\",\n",
    "                    \"denial1\", \"venting1\", \"substance_use1\", \"behavioral_disengagement1\", \"self_blame1\",\n",
    "                    \"active_coping2\", \"planning2\", \"positive_reframing2\", \"acceptance2\", \"humor2\",\n",
    "                    \"religion2\", \"emotional_support2\", \"instrumental_support2\", \"self_distraction2\",\n",
    "                    \"denial2\", \"venting2\", \"substance_use2\", \"behavioral_disengagement2\", \"self_blame2\",\n",
    "                    \"trauma_history8_1\", \"military_exposure_unit\", \"HML_5HTT\", \"HL_MAOA\", \"HML_NPY\",\n",
    "                    \"COMT_Hap1_recode\", \"COMT_Hap2_recode\", \"COMT_Hap1_LvsMH\", \"HML_FKBP5\", \"Ashken_scale\",\n",
    "                    \"Sephar_scale\", \"Unknown\", 'terror_p1', 'terror_i1', 'mva_p1', 'mva_i1',                   \n",
    "                    'violent1', 'sexual1', 'rockets_p1', 'rockets_i1', 'trauma_history6_1', 'terror_p2','terror_i2',\n",
    "                    'mva_p2', 'mva_i2', 'violent2', 'sexual2', 'rockets_p2', 'rockets_i2', 'trauma6t2', 'trauma8t2',\n",
    "                    'military_exp18_1','military_exp18_t2', 'commanders18','commanders20','commanders22', \n",
    "                    't1bias_1_zero', 'state1_zero', 'trait1_zero', 'PHQ1_zero', 'PCL1_zero', 'depression_clinical2',\n",
    "                    'avoid_bias', 'ptsd1_clini', 'avoidance_cop', 'clinical_depression15', 'avoidance_compa',\n",
    "                    'resilience_compa', 'combat_compa', 'emotional_cop1n', 'avoidance_cop2', 'avoidance_cop']\n"
   ]
  },
  {
   "cell_type": "code",
   "execution_count": 33,
   "metadata": {},
   "outputs": [],
   "source": [
    "df.dropna(thresh=0.5, axis=1,inplace=True)\n",
    "df.dropna(thresh=0.9, axis=0,inplace=True)"
   ]
  },
  {
   "cell_type": "code",
   "execution_count": 34,
   "metadata": {},
   "outputs": [
    {
     "name": "stderr",
     "output_type": "stream",
     "text": [
      "C:\\Anaconda\\lib\\site-packages\\sklearn\\preprocessing\\data.py:625: DataConversionWarning: Data with input dtype int64, float64 were all converted to float64 by StandardScaler.\n",
      "  return self.partial_fit(X, y)\n",
      "C:\\Anaconda\\lib\\site-packages\\sklearn\\base.py:462: DataConversionWarning: Data with input dtype int64, float64 were all converted to float64 by StandardScaler.\n",
      "  return self.fit(X, **fit_params).transform(X)\n"
     ]
    }
   ],
   "source": [
    "imp = SimpleImputer(missing_values=np.nan, strategy='mean')\n",
    "df[numerical_features] = imp.fit_transform(df[numerical_features])\n",
    "\n",
    "imp = SimpleImputer(missing_values=np.nan, strategy='most_frequent')\n",
    "df[categorical_features] = imp.fit_transform(df[categorical_features])\n",
    "\n",
    "X = df[features]\n",
    "ss = StandardScaler()\n",
    "X = ss.fit_transform(X)\n",
    "\n",
    "Y = df[\"PCL_Strict3\"]"
   ]
  },
  {
   "cell_type": "code",
   "execution_count": 35,
   "metadata": {},
   "outputs": [],
   "source": [
    "X_train, X_test, y_train, y_test = train_test_split(X, Y, test_size = 0.1, random_state=271828, stratify=Y)\n",
    "X_train_2, X_test_2, y_train_2, y_test_2 = train_test_split(X_train, y_train, test_size = 0.1, random_state=271828, stratify=y_train)\n"
   ]
  },
  {
   "cell_type": "code",
   "execution_count": 36,
   "metadata": {},
   "outputs": [],
   "source": [
    "def create_data(X_train, y_train):\n",
    "    X_train_3 = X_train[y_train==1]\n",
    "    y_train_3 = y_train[y_train==1]\n",
    "    X_train_4 = X_train[y_train==0][:20:]\n",
    "    y_train_4 = y_train[y_train==0][:20:]\n",
    "    X_train_5 = np.vstack((X_train_4, X_train_3))\n",
    "    y_train_5 =  np.hstack((y_train_4, y_train_3))\n",
    "    sm = SMOTE(random_state=27)\n",
    "    X_train_6, y_train_6 = sm.fit_sample(X_train_5, y_train_5.ravel())\n",
    "    X_train_6 = X_train_6[y_train_6==0]\n",
    "    y_train_6 = y_train_6[y_train_6==0]\n",
    "    return X_train_6, y_train_6"
   ]
  },
  {
   "cell_type": "code",
   "execution_count": 37,
   "metadata": {},
   "outputs": [],
   "source": [
    "DNA = [ \"HML_5HTT\", \"HL_MAOA\", \"HML_NPY\", \"COMT_Hap1_recode\", \"COMT_Hap2_recode\", \"COMT_Hap1_LvsMH\",\n",
    "       \"HML_FKBP5\", \"Ashken_scale\", \"Sephar_scale\", \"Unknown\"]\n",
    "coping_mechanism_t1 = [\"active_coping1\", \"planning1\", \"positive_reframing1\", \"acceptance1\", \"humor1\",\n",
    "                         \"religion1\", \"emotional_support1\", \"instrumental_support1\", \"self_distraction1\",\n",
    "                         \"denial1\", \"venting1\", \"substance_use1\", \"behavioral_disengagement1\", \"self_blame1\",\n",
    "                        'avoidance_cop', 'emotional_cop1n']\n",
    "coping_mechanism_t2 = [\"active_coping2\", \"planning2\", \"positive_reframing2\", \"acceptance2\", \"humor2\",\n",
    "                         \"religion2\", \"emotional_support2\", \"instrumental_support2\",\"self_distraction2\",\n",
    "                         \"denial2\", \"venting2\", \"substance_use2\", \"behavioral_disengagement2\", \"self_blame2\", 'avoidance_cop2']\n",
    "\n",
    "dot_probe = [\"T1ETBE\", \"T1Acc1t\", \"T1Acc1n\", \"T1bias\", \"T2Acc1t\", \"T2Acc1n\", \"T2bias\",  't1bias_1_zero', 'avoid_bias']\n",
    "PCL = [\"PCL1\", \"PCL2\", \"cd_risc1\", \"ptgi2\", \"trauma_history8_1\", 'PCL1_zero', 'ptsd1_clini']\n",
    "military_exposure =  [\"military_exposure_unit\", 'military_exp18_1','military_exp18_t2',\n",
    "                        'commanders18','commanders20', 'commanders22']\n",
    "depression = [\"state1\", \"state2\", \"trait1\",\n",
    "                         \"trait2\",\"phq1\", \"phq2\" ,'state1_zero',\n",
    "                        'trait1_zero', 'PHQ1_zero', 'depression_clinical2', \n",
    "                         'clinical_depression15']\n",
    "other = [\"highschool_diploma\",   \"lot1\", \"lot2\",  'avoidance_compa',\n",
    "                        'resilience_compa', 'combat_compa']\n",
    "features_groups = [DNA, coping_mechanism_t1,coping_mechanism_t2, dot_probe, PCL, military_exposure, depression, other]"
   ]
  },
  {
   "cell_type": "code",
   "execution_count": 38,
   "metadata": {},
   "outputs": [],
   "source": [
    "preds = []\n",
    "trues= []"
   ]
  },
  {
   "cell_type": "code",
   "execution_count": null,
   "metadata": {
    "scrolled": true
   },
   "outputs": [
    {
     "name": "stdout",
     "output_type": "stream",
     "text": [
      "\n",
      "\n",
      "lim 0.5 \n",
      "first_layer 30 \n",
      "each_layer 20 \n",
      "num_smote 0.9 \n",
      "loops 1 \n",
      "class_weight {1: 0.45, 0: 0.55}\n"
     ]
    }
   ],
   "source": [
    "\n",
    "kfold = StratifiedKFold(n_splits=7, shuffle=True)\n",
    "cvscores = []\n",
    "y_train_2 = np.array(y_train_2)\n",
    "X_train_2 = np.array(X_train_2)\n",
    "\n",
    "for class_weight in [{1:0.45, 0:0.55}]:\n",
    "    for num_smote in [0.9]:\n",
    "        for lim in [0.5]:\n",
    "            for first_layer in [30]:\n",
    "                for loops in [1]:\n",
    "                    for each_layer in [20]:\n",
    "                        n_pca = 0.99\n",
    "                        first_layer = first_layer\n",
    "                        each_layer = each_layer\n",
    "                        num_smote = num_smote\n",
    "                        loops = loops\n",
    "                        train_scores_f = []\n",
    "                        train_scores_p = []\n",
    "                        train_scores_r = []\n",
    "                        \n",
    "                        scores_f = []\n",
    "                        scores_p = []\n",
    "                        scores_r = []\n",
    "                        print(\"\\n\\nlim\", lim, \"\\nfirst_layer\", first_layer, \n",
    "                                  \"\\neach_layer\", each_layer, \"\\nnum_smote\", num_smote,\n",
    "                              \"\\nloops\", loops, \"\\nclass_weight\", class_weight)\n",
    "                        for train, test in kfold.split(X_train_2, y_train_2):\n",
    "                            y_train_pred = np.zeros_like(y_train_2[train]).reshape(-1, 1)\n",
    "                            t = 13\n",
    "                            y_pred = np.zeros_like(y_train_2[test]).reshape(-1, 1)\n",
    "                            for feat in features_groups:                                \n",
    "                                sm = SMOTE(0.9)\n",
    "                                feature_group = [features.index(i) for i in feat]\n",
    "                                X_train_res = X_train_2[train][:, feature_group]\n",
    "                                X_train_res, y_train_res = sm.fit_sample(X_train_res, y_train_2[train].ravel())\n",
    "                                X_test_cv = X_train_2[test][: , feature_group]\n",
    "\n",
    "\n",
    "\n",
    "                                n_cols = X_train_res.shape[1]\n",
    "                                model = Sequential()\n",
    "\n",
    "\n",
    "                                model.add(Dense(25 , activation='elu', activity_regularizer=regularizers.l2(0.0007)))\n",
    "                                model.add(Dropout(0.5))\n",
    "                                \n",
    "                                \n",
    "                                model.add(Dense(13, activation='elu', activity_regularizer=regularizers.l2(0.0007)))\n",
    "                                model.add(Dropout(0.5))\n",
    "                                           \n",
    "                                model.add(Dense(1, activation='sigmoid'))\n",
    "\n",
    "                                model.compile(optimizer='adam', \n",
    "                                                  loss='binary_crossentropy')\n",
    "                                # Fit the model\n",
    "                                callbacks = [EarlyStopping(monitor='val_loss', patience=5)]\n",
    "                                model.fit(X_train_res, y_train_res, epochs = 350, class_weight = class_weight, verbose=0,  callbacks=callbacks)\n",
    "                                # evaluate the model\n",
    "                                y_pred +=  model.predict(X_test_cv)\n",
    "                                # training error\n",
    "                                y_train_pred +=  model.predict(X_train_2[train][:, feature_group]) \n",
    "\n",
    "                            \n",
    "                            \n",
    "                            y_pred = (y_pred/t) \n",
    "                            preds.extend(y_pred)\n",
    "                            trues.extend(y_train_2[test])\n",
    "                            y_pred = y_pred > lim\n",
    "                            s_f = f1_score(y_train_2[test], y_pred)\n",
    "                            s_p = precision_score(y_train_2[test], y_pred)\n",
    "                            s_r = recall_score(y_train_2[test], y_pred)\n",
    "                            print(\"\\tscores f1\", (s_f))\n",
    "                            print(\"\\tscores p\", (s_p))\n",
    "                            print(\"\\tscores r\", (s_r))\n",
    "                            scores_f.append(s_f)\n",
    "                            scores_p.append(s_p)\n",
    "                            scores_r.append(s_r)\n",
    "                            \n",
    "                            y_train_pred = (y_train_pred/t) > lim\n",
    "                            train_s_f = f1_score(y_train_2[train], y_train_pred)\n",
    "                            train_s_p = precision_score(y_train_2[train], y_train_pred)\n",
    "                            train_s_r = recall_score(y_train_2[train], y_train_pred)\n",
    "                            print(\"\\tscores f1 train\", (train_s_f))\n",
    "                            print(\"\\tscores p train\", (train_s_p))\n",
    "                            print(\"\\tscores r train\", (train_s_r))\n",
    "                            train_scores_f.append(train_s_f)\n",
    "                            train_scores_p.append(train_s_p)\n",
    "                            train_scores_r.append(train_s_r)\n",
    "\n",
    "                        print(\"mean scores f1\", np.mean(scores_f))\n",
    "                        print(\"mean scores p\", np.mean(scores_p))\n",
    "                        print(\"mean scores r\", np.mean(scores_r))\n",
    "                        \n",
    "                        print(\"mean scores f1 train\", np.mean(train_scores_f))\n",
    "                        print(\"mean scores p train\", np.mean(train_scores_p))\n",
    "                        print(\"mean scores r train\", np.mean(train_scores_r))"
   ]
  },
  {
   "cell_type": "code",
   "execution_count": null,
   "metadata": {},
   "outputs": [],
   "source": []
  },
  {
   "cell_type": "code",
   "execution_count": null,
   "metadata": {},
   "outputs": [],
   "source": []
  }
 ],
 "metadata": {
  "kernelspec": {
   "display_name": "Python 3",
   "language": "python",
   "name": "python3"
  },
  "language_info": {
   "codemirror_mode": {
    "name": "ipython",
    "version": 3
   },
   "file_extension": ".py",
   "mimetype": "text/x-python",
   "name": "python",
   "nbconvert_exporter": "python",
   "pygments_lexer": "ipython3",
   "version": "3.6.4"
  }
 },
 "nbformat": 4,
 "nbformat_minor": 2
}
