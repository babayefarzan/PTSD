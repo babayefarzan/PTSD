{
 "cells": [
  {
   "cell_type": "code",
   "execution_count": 241,
   "metadata": {},
   "outputs": [],
   "source": [
    "import numpy as np\n",
    "import pandas as pd\n",
    "from sklearn.utils import shuffle\n",
    "from sklearn.ensemble import RandomForestClassifier, GradientBoostingClassifier\n",
    "from sklearn.model_selection import train_test_split\n",
    "from sklearn.model_selection import cross_val_score, StratifiedKFold\n",
    "from sklearn.metrics import accuracy_score, f1_score,precision_score, recall_score, roc_auc_score\n",
    "from sklearn.decomposition import PCA\n",
    "from sklearn.utils import shuffle\n",
    "from sklearn.neural_network import MLPClassifier\n",
    "from sklearn.svm import SVC\n",
    "from keras.callbacks import EarlyStopping, ModelCheckpoint\n",
    "\n",
    "from sklearn.naive_bayes import GaussianNB\n",
    "from sklearn.tree import DecisionTreeClassifier\n",
    "from sklearn.mixture import GaussianMixture\n",
    "from sklearn.linear_model import LogisticRegression\n",
    "from imblearn.over_sampling import SMOTE\n",
    "from sklearn.impute import SimpleImputer\n",
    "import tensorflow.keras\n",
    "import keras.metrics\n",
    "from keras.layers import Dense, Dropout, Conv2D, MaxPooling2D\n",
    "from keras.models import Sequential\n",
    "from imblearn.under_sampling import RandomUnderSampler\n",
    "\n",
    "from keras.callbacks import History \n",
    "from keras.utils import plot_model\n",
    "from keras.optimizers import SGD\n",
    "from sklearn.preprocessing import StandardScaler"
   ]
  },
  {
   "cell_type": "code",
   "execution_count": 242,
   "metadata": {},
   "outputs": [],
   "source": [
    "path = \"PTSD.xlsx\"\n",
    "df = pd.read_excel(path)\n",
    "df = df[~df[\"PCL_Strict3\"].isna()]\n"
   ]
  },
  {
   "cell_type": "code",
   "execution_count": null,
   "metadata": {},
   "outputs": [],
   "source": []
  },
  {
   "cell_type": "code",
   "execution_count": 243,
   "metadata": {},
   "outputs": [],
   "source": [
    "features =  [ \"age\", \"highschool_diploma\", \"Hebrew\", \"dyslexia\", \"ADHD\", \"T1ETBE\", \"T1Acc1t\",\n",
    "                         \"T1Acc1n\", \"T1bias\", \"T2Acc1t\", \"T2Acc1n\", \"T2bias\", \"state1\", \"state2\", \"trait1\",\n",
    "                         \"trait2\", \"lot1\", \"lot2\", \"phq1\", \"phq2\", \"PCL1\", \"PCL2\", \"cd_risc1\", \"ptgi2\",\n",
    "                         \"active_coping1\", \"planning1\", \"positive_reframing1\", \"acceptance1\", \"humor1\",\n",
    "                         \"religion1\", \"emotional_support1\", \"instrumental_support1\", \"self_distraction1\",\n",
    "                         \"denial1\", \"venting1\", \"substance_use1\", \"behavioral_disengagement1\", \"self_blame1\",\n",
    "                         \"active_coping2\", \"planning2\", \"positive_reframing2\", \"acceptance2\", \"humor2\",\n",
    "                         \"religion2\", \"emotional_support2\", \"instrumental_support2\",\"self_distraction2\",\n",
    "                         \"denial2\", \"venting2\", \"substance_use2\", \"behavioral_disengagement2\", \"self_blame2\",\n",
    "                         \"trauma_history8_1\", \"military_exposure_unit\", \"HML_5HTT\", \"HL_MAOA\", \"HML_NPY\",\n",
    "                         \"COMT_Hap1_recode\", \"COMT_Hap2_recode\", \"COMT_Hap1_LvsMH\", \"HML_FKBP5\", \"Ashken_scale\",\n",
    "                         \"Sephar_scale\", \"Unknown\", \"bad_features\"]"
   ]
  },
  {
   "cell_type": "code",
   "execution_count": 244,
   "metadata": {},
   "outputs": [],
   "source": [
    "bad_features = [\"T1ETBE\", \"T1bias\", \"state1\", \"state2\", \"trait1\", \"trait2\", \"phq1\", \"phq2\", \"PCL1\", \"PCL2\",\n",
    "                \"denial1\", \"substance_use1\", \"self_blame1\", \"denial2\", \"substance_use2\",\"self_blame2\",\n",
    "                         \"trauma_history8_1\", \"military_exposure_unit\", 'trauma6t2', 'trauma8t2',\n",
    "                        't1bias_1_zero', 'state1_zero', 'trait1_zero', 'PHQ1_zero', 'PCL1_zero', 'depression_clinical2',\n",
    "                        'ptsd1_clini', 'emotional_cop1n']\n",
    "numerical_features = [ \"T1ETBE\", \"T1Acc1t\", \"T1Acc1n\", \"T1bias\", \"T2Acc1t\",\"T2Acc1n\", \"T2bias\", \"state1\", \"state2\",\n",
    "                        \"trait1\", \"trait2\", \"lot1\", \"lot2\", \"phq1\", \"phq2\", \"cd_risc1\", \"PCL1\", \"PCL2\"]\n",
    "categorical_features = [ \"age\", \"highschool_diploma\", \"Hebrew\", \"dyslexia\", \"ADHD\",   \"ptgi2\",\n",
    "                    \"active_coping1\", \"planning1\", \"positive_reframing1\", \"acceptance1\", \"humor1\",\n",
    "                    \"religion1\", \"emotional_support1\", \"instrumental_support1\", \"self_distraction1\",\n",
    "                    \"denial1\", \"venting1\", \"substance_use1\", \"behavioral_disengagement1\", \"self_blame1\",\n",
    "                    \"active_coping2\", \"planning2\", \"positive_reframing2\", \"acceptance2\", \"humor2\",\n",
    "                    \"religion2\", \"emotional_support2\", \"instrumental_support2\", \"self_distraction2\",\n",
    "                    \"denial2\", \"venting2\", \"substance_use2\", \"behavioral_disengagement2\", \"self_blame2\",\n",
    "                    \"trauma_history8_1\", \"military_exposure_unit\", \"HML_5HTT\", \"HL_MAOA\", \"HML_NPY\",\n",
    "                    \"COMT_Hap1_recode\", \"COMT_Hap2_recode\", \"COMT_Hap1_LvsMH\", \"HML_FKBP5\", \"Ashken_scale\",\n",
    "                    \"Sephar_scale\", \"Unknown\"]"
   ]
  },
  {
   "cell_type": "code",
   "execution_count": null,
   "metadata": {},
   "outputs": [],
   "source": [
    "\n"
   ]
  },
  {
   "cell_type": "code",
   "execution_count": 245,
   "metadata": {},
   "outputs": [],
   "source": [
    "df['bad_features'] = (df > df.mean())[bad_features].sum(axis=1)\n",
    "\n",
    "imp = SimpleImputer(missing_values=np.nan, strategy='mean')\n",
    "df[numerical_features] = imp.fit_transform(df[numerical_features])\n",
    "\n",
    "imp = SimpleImputer(missing_values=np.nan, strategy='most_frequent')\n",
    "df[categorical_features] = imp.fit_transform(df[categorical_features])\n",
    "\n",
    "X = df[features]\n",
    "\n",
    "\n",
    "\n",
    "Y = df[\"PCL3\"]>40"
   ]
  },
  {
   "cell_type": "code",
   "execution_count": 246,
   "metadata": {},
   "outputs": [
    {
     "data": {
      "text/plain": [
       "81"
      ]
     },
     "execution_count": 246,
     "metadata": {},
     "output_type": "execute_result"
    }
   ],
   "source": [
    "sum(Y)"
   ]
  },
  {
   "cell_type": "code",
   "execution_count": 247,
   "metadata": {},
   "outputs": [
    {
     "name": "stderr",
     "output_type": "stream",
     "text": [
      "C:\\Anaconda\\lib\\site-packages\\ipykernel_launcher.py:1: SettingWithCopyWarning: \n",
      "A value is trying to be set on a copy of a slice from a DataFrame.\n",
      "Try using .loc[row_indexer,col_indexer] = value instead\n",
      "\n",
      "See the caveats in the documentation: http://pandas.pydata.org/pandas-docs/stable/indexing.html#indexing-view-versus-copy\n",
      "  \"\"\"Entry point for launching an IPython kernel.\n",
      "C:\\Anaconda\\lib\\site-packages\\ipykernel_launcher.py:2: SettingWithCopyWarning: \n",
      "A value is trying to be set on a copy of a slice from a DataFrame.\n",
      "Try using .loc[row_indexer,col_indexer] = value instead\n",
      "\n",
      "See the caveats in the documentation: http://pandas.pydata.org/pandas-docs/stable/indexing.html#indexing-view-versus-copy\n",
      "  \n",
      "C:\\Anaconda\\lib\\site-packages\\ipykernel_launcher.py:3: SettingWithCopyWarning: \n",
      "A value is trying to be set on a copy of a slice from a DataFrame.\n",
      "Try using .loc[row_indexer,col_indexer] = value instead\n",
      "\n",
      "See the caveats in the documentation: http://pandas.pydata.org/pandas-docs/stable/indexing.html#indexing-view-versus-copy\n",
      "  This is separate from the ipykernel package so we can avoid doing imports until\n",
      "C:\\Anaconda\\lib\\site-packages\\ipykernel_launcher.py:4: SettingWithCopyWarning: \n",
      "A value is trying to be set on a copy of a slice from a DataFrame.\n",
      "Try using .loc[row_indexer,col_indexer] = value instead\n",
      "\n",
      "See the caveats in the documentation: http://pandas.pydata.org/pandas-docs/stable/indexing.html#indexing-view-versus-copy\n",
      "  after removing the cwd from sys.path.\n"
     ]
    }
   ],
   "source": [
    "X[\"interaction_1\"] = X[\"T1Acc1t\"] * X[\"T2Acc1n\"] * X[\"military_exposure_unit\"]\n",
    "X[\"interaction_2\"] = X[\"T1Acc1n\"] * X[\"T2Acc1t\"] * X[\"military_exposure_unit\"]\n",
    "X[\"interaction_3\"] = X[\"highschool_diploma\"] * X[\"military_exposure_unit\"] * X['PCL1']\n",
    "X[\"interaction_4\"] = X[\"T1ETBE\"] * X[\"military_exposure_unit\"] * X['HML_5HTT']\n"
   ]
  },
  {
   "cell_type": "code",
   "execution_count": 248,
   "metadata": {},
   "outputs": [
    {
     "name": "stderr",
     "output_type": "stream",
     "text": [
      "C:\\Anaconda\\lib\\site-packages\\sklearn\\preprocessing\\data.py:625: DataConversionWarning: Data with input dtype int64, float64 were all converted to float64 by StandardScaler.\n",
      "  return self.partial_fit(X, y)\n",
      "C:\\Anaconda\\lib\\site-packages\\sklearn\\base.py:462: DataConversionWarning: Data with input dtype int64, float64 were all converted to float64 by StandardScaler.\n",
      "  return self.fit(X, **fit_params).transform(X)\n"
     ]
    }
   ],
   "source": [
    "ss = StandardScaler()\n",
    "X = ss.fit_transform(X)"
   ]
  },
  {
   "cell_type": "code",
   "execution_count": 249,
   "metadata": {},
   "outputs": [],
   "source": [
    "X_train, X_test, y_train, y_test = train_test_split(X, Y, test_size = 0.1, random_state=271828, stratify=Y)\n",
    "X_train_2, X_test_2, y_train_2, y_test_2 = train_test_split(X_train, y_train, test_size = 0.1, random_state=271828, stratify=y_train)\n",
    "#X_train_3, X_test_3, y_train_3, y_test_3 = train_test_split(X_train_2, y_train_2, test_size = 0.1, random_state=271828, stratify=y_train_2)"
   ]
  },
  {
   "cell_type": "code",
   "execution_count": 250,
   "metadata": {},
   "outputs": [],
   "source": [
    "def create_data(X_train, y_train):\n",
    "    X_train_3 = X_train[y_train==1]\n",
    "    y_train_3 = y_train[y_train==1]\n",
    "    X_train_4 = X_train[y_train==0][:10:]\n",
    "    y_train_4 = y_train[y_train==0][:10:]\n",
    "    X_train_5 = np.vstack((X_train_4, X_train_3))\n",
    "    y_train_5 =  np.hstack((y_train_4, y_train_3))\n",
    "    sm = SMOTE(random_state=27)\n",
    "    X_train_6, y_train_6 = sm.fit_sample(X_train_5, y_train_5.ravel())\n",
    "    X_train_6 = X_train_6[y_train_6==0]\n",
    "    y_train_6 = y_train_6[y_train_6==0]\n",
    "    return X_train_6, y_train_6"
   ]
  },
  {
   "cell_type": "code",
   "execution_count": 251,
   "metadata": {},
   "outputs": [],
   "source": [
    "preds = []\n",
    "trues= []"
   ]
  },
  {
   "cell_type": "code",
   "execution_count": 252,
   "metadata": {
    "scrolled": false
   },
   "outputs": [
    {
     "name": "stdout",
     "output_type": "stream",
     "text": [
      "num_layers 2 \n",
      "first_layer 75 \n",
      "each_layer 15 \n",
      "num_smote 1 \n",
      "loops 20\n",
      "\tscores f1 0.15384615384615383\n",
      "\tscores p 0.3333333333333333\n",
      "\tscores r 0.1\n",
      "\tscores f1 train 0.11940298507462686\n",
      "\tscores p train 0.36363636363636365\n",
      "\tscores r train 0.07142857142857142\n",
      "num_layers 2 \n",
      "first_layer 75 \n",
      "each_layer 15 \n",
      "num_smote 1 \n",
      "loops 20\n",
      "\tscores f1 0.0\n",
      "\tscores p 0.0\n",
      "\tscores r 0.0\n",
      "\tscores f1 train 0.0\n",
      "\tscores p train 0.0\n",
      "\tscores r train 0.0\n",
      "num_layers 2 \n",
      "first_layer 75 \n",
      "each_layer 15 \n",
      "num_smote 1 \n",
      "loops 20\n",
      "\tscores f1 0.125\n",
      "\tscores p 0.16666666666666666\n",
      "\tscores r 0.1\n",
      "\tscores f1 train 0.2823529411764706\n",
      "\tscores p train 0.41379310344827586\n",
      "\tscores r train 0.21428571428571427\n",
      "num_layers 2 \n",
      "first_layer 75 \n",
      "each_layer 15 \n",
      "num_smote 1 \n",
      "loops 20\n",
      "\tscores f1 0.35294117647058826\n",
      "\tscores p 0.375\n",
      "\tscores r 0.3333333333333333\n",
      "\tscores f1 train 0.4077669902912621\n",
      "\tscores p train 0.45652173913043476\n",
      "\tscores r train 0.3684210526315789\n",
      "num_layers 2 \n",
      "first_layer 75 \n",
      "each_layer 15 \n",
      "num_smote 1 \n",
      "loops 20\n",
      "\tscores f1 0.1818181818181818\n",
      "\tscores p 0.5\n",
      "\tscores r 0.1111111111111111\n",
      "\tscores f1 train 0.0\n",
      "\tscores p train 0.0\n",
      "\tscores r train 0.0\n",
      "num_layers 2 \n",
      "first_layer 75 \n",
      "each_layer 15 \n",
      "num_smote 1 \n",
      "loops 20\n",
      "\tscores f1 0.0\n",
      "\tscores p 0.0\n",
      "\tscores r 0.0\n",
      "\tscores f1 train 0.26666666666666666\n",
      "\tscores p train 0.5555555555555556\n",
      "\tscores r train 0.17543859649122806\n",
      "num_layers 2 \n",
      "first_layer 75 \n",
      "each_layer 15 \n",
      "num_smote 1 \n",
      "loops 20\n",
      "\tscores f1 0.0\n",
      "\tscores p 0.0\n",
      "\tscores r 0.0\n",
      "\tscores f1 train 0.06451612903225806\n",
      "\tscores p train 0.4\n",
      "\tscores r train 0.03508771929824561\n",
      "mean scores 0.1162293588764177\n"
     ]
    }
   ],
   "source": [
    "kfold = StratifiedKFold(n_splits=7, shuffle=True)\n",
    "cvscores = []\n",
    "y_train_2 = np.array(y_train_2)\n",
    "X_train_2 = np.array(X_train_2)\n",
    "\n",
    "for num_layers in [2]:\n",
    "    for first_layer in [75]:\n",
    "        for loops in [20]:\n",
    "            for each_layer in [15]:\n",
    "                num_layers = num_layers\n",
    "                first_layer = first_layer\n",
    "                each_layer = each_layer\n",
    "                num_smote = 1\n",
    "                loops = loops\n",
    "                scores = []\n",
    "                for train, test in kfold.split(X_train_2, y_train_2):\n",
    "                    print(\"num_layers\", num_layers, \"\\nfirst_layer\", first_layer, \n",
    "                          \"\\neach_layer\", each_layer, \"\\nnum_smote\", num_smote, \"\\nloops\", loops)\n",
    "                    sm = SMOTE(0.9)\n",
    "                    X_train_res = X_train_2[train]\n",
    "                    y_train_res = y_train_2[train]\n",
    "                    X_train_res, y_train_res = sm.fit_sample(X_train_res, y_train_res.ravel())\n",
    "\n",
    "                  # create model\n",
    "                    n_cols = X_train_res.shape[1]\n",
    "                    model = Sequential()\n",
    "                    model.add(Dense(first_layer, activation='elu', input_dim = n_cols))\n",
    "                    model.add(Dropout(0.5))\n",
    "\n",
    "                    for i in range(num_layers):\n",
    "                        model.add(Dense(each_layer, activation='elu'))\n",
    "                        model.add(Dropout(0.5))\n",
    "\n",
    "                    model.add(Dense(1, activation='sigmoid'))\n",
    "\n",
    "                    model.compile(optimizer='adam', \n",
    "                                  loss='binary_crossentropy')\n",
    "\n",
    "\n",
    "                    # Fit the model\n",
    "                    callbacks = [EarlyStopping(monitor='val_loss', patience=2)]\n",
    "                    model.fit(X_train_res, y_train_res, epochs = 650, validation_split = .1, verbose=0, callbacks=callbacks, class_weight = {1:0.5, 0:95})\n",
    "                    # evaluate the model\n",
    "                    y_pred =  model.predict(X_train_2[test])\n",
    "                    y_train_pred =  model.predict(X_train_2[train])\n",
    "                    preds.extend(y_pred)\n",
    "                    trues.extend(y_train_2[test])\n",
    "                    y_pred = y_pred>0.5\n",
    "                    s_f = f1_score(y_train_2[test], y_pred)\n",
    "                    s_p = precision_score(y_train_2[test], y_pred)\n",
    "                    s_r = recall_score(y_train_2[test], y_pred)\n",
    "                    print(\"\\tscores f1\", (s_f))\n",
    "                    print(\"\\tscores p\", (s_p))\n",
    "                    print(\"\\tscores r\", (s_r))\n",
    "                    s = f1_score(y_pred,y_train_2[test])\n",
    "                    #print(s)\n",
    "                    scores.append(s)\n",
    "\n",
    "                    \n",
    "                    y_train_pred = (y_train_pred) > 0.5\n",
    "                    train_s_f = f1_score(y_train_2[train], y_train_pred)\n",
    "                    train_s_p = precision_score(y_train_2[train], y_train_pred)\n",
    "                    train_s_r = recall_score(y_train_2[train], y_train_pred)\n",
    "                    print(\"\\tscores f1 train\", (train_s_f))\n",
    "                    print(\"\\tscores p train\", (train_s_p))\n",
    "                    print(\"\\tscores r train\", (train_s_r))\n",
    "                print(\"mean scores\", np.mean(scores))"
   ]
  },
  {
   "cell_type": "code",
   "execution_count": null,
   "metadata": {},
   "outputs": [],
   "source": [
    "preds = np.array(preds)\n",
    "trues = np.array(trues)"
   ]
  },
  {
   "cell_type": "code",
   "execution_count": null,
   "metadata": {},
   "outputs": [],
   "source": [
    "trues[np.where(preds > 0.7)[0]]"
   ]
  },
  {
   "cell_type": "code",
   "execution_count": null,
   "metadata": {},
   "outputs": [],
   "source": [
    "num_layers = 2\n",
    "first_layer = 75\n",
    "each_layer = 10\n",
    "\n",
    "# create model\n",
    "n_cols = X_train_res.shape[1]\n",
    "model = Sequential()\n",
    "model.add(Dense(first_layer, activation='elu', input_dim = n_cols))\n",
    "model.add(Dropout(0.5))\n",
    "for i in range(num_layers):\n",
    "    model.add(Dense(each_layer, activation='elu'))\n",
    "    model.add(Dropout(0.5))\n",
    "\n",
    "model.add(Dense(1, activation='sigmoid'))\n",
    "\n",
    "model.compile(optimizer='adam', \n",
    "                                  loss='binary_crossentropy')\n",
    "\n",
    "\n",
    "                    # Fit the model\n",
    "callbacks = [EarlyStopping(monitor='val_loss', patience=5)]\n",
    "model.fit(X_train_2, y_train_2, epochs = 150, validation_split = .1, verbose=0, callbacks=callbacks, class_weight = {1:25, 0:75})\n",
    "                    # evaluate the model\n",
    "y_pred =  model.predict(X_test_2)\n",
    "y_train_pred =  model.predict(X_train_2)\n",
    "#preds.extend(y_pred)\n",
    "    #trues.extend(y_train_2[test])\n",
    "y_pred = y_pred>0.45\n",
    "s_f = f1_score(y_test_2, y_pred)\n",
    "s_p = precision_score(y_test_2, y_pred)\n",
    "s_r = recall_score(y_test_2, y_pred)\n",
    "print(\"\\tscores f1\", (s_f))\n",
    "print(\"\\tscores p\", (s_p))\n",
    "print(\"\\tscores r\", (s_r))\n",
    "                    \n",
    "y_train_pred = (y_train_pred) > 0.45\n",
    "train_s_f = f1_score(y_train_2, y_train_pred)\n",
    "train_s_p = precision_score(y_train_2, y_train_pred)\n",
    "train_s_r = recall_score(y_train_2, y_train_pred)\n",
    "print(\"\\tscores f1 train\", (train_s_f))\n",
    "print(\"\\tscores p train\", (train_s_p))\n",
    "print(\"\\tscores r train\", (train_s_r))\n",
    "    "
   ]
  },
  {
   "cell_type": "code",
   "execution_count": null,
   "metadata": {},
   "outputs": [],
   "source": []
  }
 ],
 "metadata": {
  "kernelspec": {
   "display_name": "Python 3",
   "language": "python",
   "name": "python3"
  },
  "language_info": {
   "codemirror_mode": {
    "name": "ipython",
    "version": 3
   },
   "file_extension": ".py",
   "mimetype": "text/x-python",
   "name": "python",
   "nbconvert_exporter": "python",
   "pygments_lexer": "ipython3",
   "version": "3.6.4"
  }
 },
 "nbformat": 4,
 "nbformat_minor": 2
}
