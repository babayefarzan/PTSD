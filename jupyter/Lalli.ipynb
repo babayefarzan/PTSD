{
 "cells": [
  {
   "cell_type": "code",
   "execution_count": 1,
   "metadata": {},
   "outputs": [],
   "source": [
    "q1 = \"how short is your hair?\"\n",
    "q2 = \"how much do you love jon bon jovi?\"\n",
    "q3 = \"how Puchcki are you?\""
   ]
  },
  {
   "cell_type": "code",
   "execution_count": 6,
   "metadata": {},
   "outputs": [
    {
     "name": "stdout",
     "output_type": "stream",
     "text": [
      "how short is your hair?\n",
      "3\n",
      "how much do you love jon bon jovi?\n",
      "4\n",
      "how Puchcki are you?\n",
      "2\n",
      "somewhat inbal\n"
     ]
    }
   ],
   "source": [
    "list_of_questions = [q1, q2, q3]\n",
    "summation = 0\n",
    "\n",
    "for question in list_of_questions:\n",
    "    print(question)\n",
    "    answer = int(input())\n",
    "    summation = summation + answer\n",
    "\n",
    "if summation < 4:\n",
    "    print (\"not inbal at all!\")\n",
    "else:\n",
    "    if summation < 8:\n",
    "        print(\"Tipush inbal\")\n",
    "    else:\n",
    "        if summation < 11:\n",
    "            print(\"somewhat inbal\")\n",
    "        else:\n",
    "            if summation <16:\n",
    "                print(\"inbalest of them all\")"
   ]
  },
  {
   "cell_type": "code",
   "execution_count": null,
   "metadata": {},
   "outputs": [],
   "source": []
  },
  {
   "cell_type": "code",
   "execution_count": 6,
   "metadata": {},
   "outputs": [
    {
     "name": "stdout",
     "output_type": "stream",
     "text": [
      "scale - 1 - not inbal, 5 - very inbal2\n"
     ]
    }
   ],
   "source": [
    "answer = input(\"scale - 1 - not inbal, 5 - very inbal\")"
   ]
  },
  {
   "cell_type": "code",
   "execution_count": null,
   "metadata": {},
   "outputs": [],
   "source": []
  }
 ],
 "metadata": {
  "kernelspec": {
   "display_name": "Python 3",
   "language": "python",
   "name": "python3"
  },
  "language_info": {
   "codemirror_mode": {
    "name": "ipython",
    "version": 3
   },
   "file_extension": ".py",
   "mimetype": "text/x-python",
   "name": "python",
   "nbconvert_exporter": "python",
   "pygments_lexer": "ipython3",
   "version": "3.7.1"
  }
 },
 "nbformat": 4,
 "nbformat_minor": 2
}
